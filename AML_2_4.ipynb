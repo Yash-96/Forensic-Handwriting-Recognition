{
  "nbformat": 4,
  "nbformat_minor": 0,
  "metadata": {
    "colab": {
      "name": "AML#2.4",
      "version": "0.3.2",
      "provenance": [],
      "collapsed_sections": []
    },
    "kernelspec": {
      "name": "python3",
      "display_name": "Python 3"
    },
    "accelerator": "GPU"
  },
  "cells": [
    {
      "metadata": {
        "id": "dxxIQ5ceMXSv",
        "colab_type": "code",
        "colab": {}
      },
      "cell_type": "code",
      "source": [
        "from google.colab import drive\n",
        "drive.mount('/content/drive')"
      ],
      "execution_count": 0,
      "outputs": []
    },
    {
      "metadata": {
        "id": "7ldS2ajKKhj-",
        "colab_type": "code",
        "colab": {}
      },
      "cell_type": "code",
      "source": [
        "import pandas as pd\n",
        "import csv"
      ],
      "execution_count": 0,
      "outputs": []
    },
    {
      "metadata": {
        "id": "xU4BheDkdNhc",
        "colab_type": "code",
        "outputId": "dd073d34-a22f-44c7-d7f7-e472e4104fc9",
        "colab": {
          "base_uri": "https://localhost:8080/",
          "height": 34
        }
      },
      "cell_type": "code",
      "source": [
        "import keras\n",
        "from matplotlib import pyplot as plt\n",
        "import numpy as np\n",
        "import gzip\n",
        "%matplotlib inline\n",
        "from keras.models import Model\n",
        "from keras.optimizers import RMSprop\n",
        "from keras.layers import Input,Dense,Flatten,Dropout,merge,Reshape,Conv2D,MaxPooling2D,UpSampling2D,Conv2DTranspose\n",
        "from keras.layers.normalization import BatchNormalization\n",
        "from keras.models import Model,Sequential\n",
        "from keras.callbacks import ModelCheckpoint\n",
        "from keras.optimizers import Adadelta, RMSprop,SGD,Adam\n",
        "from keras import regularizers\n",
        "from keras import backend as K\n",
        "from keras.utils import to_categorical"
      ],
      "execution_count": 3,
      "outputs": [
        {
          "output_type": "stream",
          "text": [
            "Using TensorFlow backend.\n"
          ],
          "name": "stderr"
        }
      ]
    },
    {
      "metadata": {
        "id": "WfnAyp-SK0L_",
        "colab_type": "code",
        "outputId": "80a9a2b1-5146-4874-cab2-760d8e9dad5b",
        "colab": {
          "base_uri": "https://localhost:8080/",
          "height": 77
        }
      },
      "cell_type": "code",
      "source": [
        "data = pd.read_csv(\"/content/drive/My Drive/15features.csv\") \n",
        "data[data['imagename']=='0968a_num1.png']"
      ],
      "execution_count": 4,
      "outputs": [
        {
          "output_type": "execute_result",
          "data": {
            "text/html": [
              "<div>\n",
              "<style scoped>\n",
              "    .dataframe tbody tr th:only-of-type {\n",
              "        vertical-align: middle;\n",
              "    }\n",
              "\n",
              "    .dataframe tbody tr th {\n",
              "        vertical-align: top;\n",
              "    }\n",
              "\n",
              "    .dataframe thead th {\n",
              "        text-align: right;\n",
              "    }\n",
              "</style>\n",
              "<table border=\"1\" class=\"dataframe\">\n",
              "  <thead>\n",
              "    <tr style=\"text-align: right;\">\n",
              "      <th></th>\n",
              "      <th>imagename</th>\n",
              "      <th>pen_pressure</th>\n",
              "      <th>letter_spacing</th>\n",
              "      <th>size</th>\n",
              "      <th>dimension</th>\n",
              "      <th>is_lowercase</th>\n",
              "      <th>is_continuous</th>\n",
              "      <th>slantness</th>\n",
              "      <th>tilt</th>\n",
              "      <th>entry_stroke_a</th>\n",
              "      <th>staff_of_a</th>\n",
              "      <th>formation_n</th>\n",
              "      <th>staff_of_d</th>\n",
              "      <th>exit_stroke_d</th>\n",
              "      <th>word_formation</th>\n",
              "      <th>constancy</th>\n",
              "    </tr>\n",
              "  </thead>\n",
              "  <tbody>\n",
              "    <tr>\n",
              "      <th>40</th>\n",
              "      <td>0968a_num1.png</td>\n",
              "      <td>2</td>\n",
              "      <td>1</td>\n",
              "      <td>2</td>\n",
              "      <td>2</td>\n",
              "      <td>2</td>\n",
              "      <td>2</td>\n",
              "      <td>3</td>\n",
              "      <td>2</td>\n",
              "      <td>1</td>\n",
              "      <td>2</td>\n",
              "      <td>2</td>\n",
              "      <td>2</td>\n",
              "      <td>2</td>\n",
              "      <td>1</td>\n",
              "      <td>2</td>\n",
              "    </tr>\n",
              "  </tbody>\n",
              "</table>\n",
              "</div>"
            ],
            "text/plain": [
              "         imagename  pen_pressure  letter_spacing  size  dimension  \\\n",
              "40  0968a_num1.png             2               1     2          2   \n",
              "\n",
              "    is_lowercase  is_continuous  slantness  tilt  entry_stroke_a  staff_of_a  \\\n",
              "40             2              2          3     2               1           2   \n",
              "\n",
              "    formation_n  staff_of_d  exit_stroke_d  word_formation  constancy  \n",
              "40            2           2              2               1          2  "
            ]
          },
          "metadata": {
            "tags": []
          },
          "execution_count": 4
        }
      ]
    },
    {
      "metadata": {
        "id": "hIUAIVne7tZ_",
        "colab_type": "text"
      },
      "cell_type": "markdown",
      "source": [
        "# Other Tasks"
      ]
    },
    {
      "metadata": {
        "id": "O2Cwn3-gK88y",
        "colab_type": "code",
        "outputId": "0da96b59-eba2-4fc8-fae7-e2d5b9f5b260",
        "colab": {
          "base_uri": "https://localhost:8080/",
          "height": 197
        }
      },
      "cell_type": "code",
      "source": [
        "df = data.drop(['imagename'], axis=1)\n",
        "df.head()"
      ],
      "execution_count": 5,
      "outputs": [
        {
          "output_type": "execute_result",
          "data": {
            "text/html": [
              "<div>\n",
              "<style scoped>\n",
              "    .dataframe tbody tr th:only-of-type {\n",
              "        vertical-align: middle;\n",
              "    }\n",
              "\n",
              "    .dataframe tbody tr th {\n",
              "        vertical-align: top;\n",
              "    }\n",
              "\n",
              "    .dataframe thead th {\n",
              "        text-align: right;\n",
              "    }\n",
              "</style>\n",
              "<table border=\"1\" class=\"dataframe\">\n",
              "  <thead>\n",
              "    <tr style=\"text-align: right;\">\n",
              "      <th></th>\n",
              "      <th>pen_pressure</th>\n",
              "      <th>letter_spacing</th>\n",
              "      <th>size</th>\n",
              "      <th>dimension</th>\n",
              "      <th>is_lowercase</th>\n",
              "      <th>is_continuous</th>\n",
              "      <th>slantness</th>\n",
              "      <th>tilt</th>\n",
              "      <th>entry_stroke_a</th>\n",
              "      <th>staff_of_a</th>\n",
              "      <th>formation_n</th>\n",
              "      <th>staff_of_d</th>\n",
              "      <th>exit_stroke_d</th>\n",
              "      <th>word_formation</th>\n",
              "      <th>constancy</th>\n",
              "    </tr>\n",
              "  </thead>\n",
              "  <tbody>\n",
              "    <tr>\n",
              "      <th>0</th>\n",
              "      <td>2</td>\n",
              "      <td>2</td>\n",
              "      <td>2</td>\n",
              "      <td>1</td>\n",
              "      <td>2</td>\n",
              "      <td>2</td>\n",
              "      <td>3</td>\n",
              "      <td>2</td>\n",
              "      <td>1</td>\n",
              "      <td>2</td>\n",
              "      <td>2</td>\n",
              "      <td>3</td>\n",
              "      <td>2</td>\n",
              "      <td>2</td>\n",
              "      <td>1</td>\n",
              "    </tr>\n",
              "    <tr>\n",
              "      <th>1</th>\n",
              "      <td>2</td>\n",
              "      <td>2</td>\n",
              "      <td>2</td>\n",
              "      <td>2</td>\n",
              "      <td>2</td>\n",
              "      <td>2</td>\n",
              "      <td>3</td>\n",
              "      <td>1</td>\n",
              "      <td>1</td>\n",
              "      <td>2</td>\n",
              "      <td>2</td>\n",
              "      <td>3</td>\n",
              "      <td>1</td>\n",
              "      <td>2</td>\n",
              "      <td>2</td>\n",
              "    </tr>\n",
              "    <tr>\n",
              "      <th>2</th>\n",
              "      <td>2</td>\n",
              "      <td>2</td>\n",
              "      <td>2</td>\n",
              "      <td>2</td>\n",
              "      <td>2</td>\n",
              "      <td>2</td>\n",
              "      <td>2</td>\n",
              "      <td>2</td>\n",
              "      <td>1</td>\n",
              "      <td>2</td>\n",
              "      <td>2</td>\n",
              "      <td>2</td>\n",
              "      <td>2</td>\n",
              "      <td>2</td>\n",
              "      <td>2</td>\n",
              "    </tr>\n",
              "    <tr>\n",
              "      <th>3</th>\n",
              "      <td>2</td>\n",
              "      <td>2</td>\n",
              "      <td>2</td>\n",
              "      <td>1</td>\n",
              "      <td>2</td>\n",
              "      <td>2</td>\n",
              "      <td>1</td>\n",
              "      <td>1</td>\n",
              "      <td>1</td>\n",
              "      <td>1</td>\n",
              "      <td>1</td>\n",
              "      <td>1</td>\n",
              "      <td>1</td>\n",
              "      <td>1</td>\n",
              "      <td>1</td>\n",
              "    </tr>\n",
              "    <tr>\n",
              "      <th>4</th>\n",
              "      <td>2</td>\n",
              "      <td>2</td>\n",
              "      <td>2</td>\n",
              "      <td>2</td>\n",
              "      <td>2</td>\n",
              "      <td>2</td>\n",
              "      <td>2</td>\n",
              "      <td>1</td>\n",
              "      <td>1</td>\n",
              "      <td>2</td>\n",
              "      <td>2</td>\n",
              "      <td>2</td>\n",
              "      <td>2</td>\n",
              "      <td>2</td>\n",
              "      <td>2</td>\n",
              "    </tr>\n",
              "  </tbody>\n",
              "</table>\n",
              "</div>"
            ],
            "text/plain": [
              "   pen_pressure  letter_spacing  size  dimension  is_lowercase  is_continuous  \\\n",
              "0             2               2     2          1             2              2   \n",
              "1             2               2     2          2             2              2   \n",
              "2             2               2     2          2             2              2   \n",
              "3             2               2     2          1             2              2   \n",
              "4             2               2     2          2             2              2   \n",
              "\n",
              "   slantness  tilt  entry_stroke_a  staff_of_a  formation_n  staff_of_d  \\\n",
              "0          3     2               1           2            2           3   \n",
              "1          3     1               1           2            2           3   \n",
              "2          2     2               1           2            2           2   \n",
              "3          1     1               1           1            1           1   \n",
              "4          2     1               1           2            2           2   \n",
              "\n",
              "   exit_stroke_d  word_formation  constancy  \n",
              "0              2               2          1  \n",
              "1              1               2          2  \n",
              "2              2               2          2  \n",
              "3              1               1          1  \n",
              "4              2               2          2  "
            ]
          },
          "metadata": {
            "tags": []
          },
          "execution_count": 5
        }
      ]
    },
    {
      "metadata": {
        "id": "zv-AIKEpNC3L",
        "colab_type": "code",
        "colab": {}
      },
      "cell_type": "code",
      "source": [
        "data_char= df.applymap(str)\n",
        "data_expand=pd.get_dummies(data_char)\n",
        "data_expand=data_expand.apply(pd.to_numeric)"
      ],
      "execution_count": 0,
      "outputs": []
    },
    {
      "metadata": {
        "id": "G3PEVoSVOjJK",
        "colab_type": "code",
        "colab": {}
      },
      "cell_type": "code",
      "source": [
        "X = data['imagename']\n",
        "y = data_expand[['pen_pressure_1', 'pen_pressure_2', 'letter_spacing_1',\n",
        "       'letter_spacing_2', 'letter_spacing_3', 'size_1', 'size_2', 'size_3',\n",
        "       'dimension_1', 'dimension_2', 'dimension_3', 'is_lowercase_1',\n",
        "       'is_lowercase_2', 'is_continuous_1', 'is_continuous_2', 'slantness_1',\n",
        "       'slantness_2', 'slantness_3', 'slantness_4', 'tilt_1', 'tilt_2',\n",
        "       'entry_stroke_a_1', 'entry_stroke_a_2', 'staff_of_a_1', 'staff_of_a_2',\n",
        "       'staff_of_a_3', 'staff_of_a_4', 'formation_n_1', 'formation_n_2',\n",
        "       'staff_of_d_1', 'staff_of_d_2', 'staff_of_d_3', 'exit_stroke_d_1',\n",
        "       'exit_stroke_d_2', 'exit_stroke_d_3', 'exit_stroke_d_4',\n",
        "       'word_formation_1', 'word_formation_2', 'constancy_1', 'constancy_2']]"
      ],
      "execution_count": 0,
      "outputs": []
    },
    {
      "metadata": {
        "id": "XA_F97wnqY_E",
        "colab_type": "code",
        "colab": {}
      },
      "cell_type": "code",
      "source": [
        "pen_pressure = ['pen_pressure_1', 'pen_pressure_2']\n",
        "pen_pressure = data_expand[pen_pressure]\n",
        "pen_node = pen_pressure.shape[1]\n",
        "pen_pressure = pen_pressure.values.tolist()"
      ],
      "execution_count": 0,
      "outputs": []
    },
    {
      "metadata": {
        "id": "Vp1cAXA_qykp",
        "colab_type": "code",
        "colab": {}
      },
      "cell_type": "code",
      "source": [
        "letter_spacing = ['letter_spacing_1',\n",
        "       'letter_spacing_2', 'letter_spacing_3']\n",
        "letter_spacing = data_expand[letter_spacing]\n",
        "letter_node = letter_spacing.shape[1]\n",
        "letter_spacing = letter_spacing.values.tolist()"
      ],
      "execution_count": 0,
      "outputs": []
    },
    {
      "metadata": {
        "id": "PNeJqR_FrJpq",
        "colab_type": "code",
        "colab": {}
      },
      "cell_type": "code",
      "source": [
        "size = ['size_1', 'size_2', 'size_3']\n",
        "size = data_expand[size]\n",
        "size_node = size.shape[1]\n",
        "size = size.values.tolist()"
      ],
      "execution_count": 0,
      "outputs": []
    },
    {
      "metadata": {
        "id": "5WIvAyfLri-1",
        "colab_type": "code",
        "colab": {}
      },
      "cell_type": "code",
      "source": [
        "dimension = ['dimension_1', 'dimension_2', 'dimension_3']\n",
        "dimension = data_expand[dimension]\n",
        "dimension_node = dimension.shape[1]\n",
        "dimension = dimension.values.tolist()"
      ],
      "execution_count": 0,
      "outputs": []
    },
    {
      "metadata": {
        "id": "wzrZCtGqr2hl",
        "colab_type": "code",
        "colab": {}
      },
      "cell_type": "code",
      "source": [
        "lowercase = ['is_lowercase_1',\n",
        "       'is_lowercase_2']\n",
        "lowercase = data_expand[lowercase]\n",
        "lowercase_node = lowercase.shape[1]\n",
        "lowercase = lowercase.values.tolist()"
      ],
      "execution_count": 0,
      "outputs": []
    },
    {
      "metadata": {
        "id": "SEiPeQ5NsIVg",
        "colab_type": "code",
        "colab": {}
      },
      "cell_type": "code",
      "source": [
        "continuous = ['is_continuous_1', 'is_continuous_2']\n",
        "continuous = data_expand[continuous]\n",
        "continuous_node = continuous.shape[1]\n",
        "continuous = continuous.values.tolist()"
      ],
      "execution_count": 0,
      "outputs": []
    },
    {
      "metadata": {
        "id": "5xL-ltAQsZEO",
        "colab_type": "code",
        "colab": {}
      },
      "cell_type": "code",
      "source": [
        "slantness = ['slantness_1',\n",
        "       'slantness_2', 'slantness_3', 'slantness_4']\n",
        "slantness = data_expand[slantness]\n",
        "slantness_node = slantness.shape[1]\n",
        "slantness = slantness.values.tolist()"
      ],
      "execution_count": 0,
      "outputs": []
    },
    {
      "metadata": {
        "id": "AiHSKyRQsrFM",
        "colab_type": "code",
        "colab": {}
      },
      "cell_type": "code",
      "source": [
        "tilt = ['tilt_1', 'tilt_2']\n",
        "tilt = data_expand[tilt]\n",
        "tilt_node = tilt.shape[1]\n",
        "tilt = tilt.values.tolist()"
      ],
      "execution_count": 0,
      "outputs": []
    },
    {
      "metadata": {
        "id": "JpPyOpdiswMl",
        "colab_type": "code",
        "colab": {}
      },
      "cell_type": "code",
      "source": [
        "entry = ['entry_stroke_a_1', 'entry_stroke_a_2']\n",
        "entry = data_expand[entry]\n",
        "entry_node = entry.shape[1]\n",
        "entry = entry.values.tolist()"
      ],
      "execution_count": 0,
      "outputs": []
    },
    {
      "metadata": {
        "id": "I0nqXgd8sxgA",
        "colab_type": "code",
        "colab": {}
      },
      "cell_type": "code",
      "source": [
        "staff = ['staff_of_a_1', 'staff_of_a_2',\n",
        "       'staff_of_a_3', 'staff_of_a_4']\n",
        "staff = data_expand[staff]\n",
        "staff_node = staff.shape[1]\n",
        "staff = staff.values.tolist()"
      ],
      "execution_count": 0,
      "outputs": []
    },
    {
      "metadata": {
        "id": "QAtr3lWGsyeS",
        "colab_type": "code",
        "colab": {}
      },
      "cell_type": "code",
      "source": [
        "formation = ['formation_n_1', 'formation_n_2']\n",
        "formation = data_expand[formation]\n",
        "formation_node = formation.shape[1]\n",
        "formation = formation.values.tolist()"
      ],
      "execution_count": 0,
      "outputs": []
    },
    {
      "metadata": {
        "id": "JbckMcCzs0yu",
        "colab_type": "code",
        "colab": {}
      },
      "cell_type": "code",
      "source": [
        "st = ['staff_of_d_1', 'staff_of_d_2', 'staff_of_d_3']\n",
        "st = data_expand[st]\n",
        "st_node = st.shape[1]\n",
        "st = st.values.tolist()"
      ],
      "execution_count": 0,
      "outputs": []
    },
    {
      "metadata": {
        "id": "RRkHs3a5s1xc",
        "colab_type": "code",
        "colab": {}
      },
      "cell_type": "code",
      "source": [
        "exit = ['exit_stroke_d_1',\n",
        "       'exit_stroke_d_2', 'exit_stroke_d_3', 'exit_stroke_d_4']\n",
        "exit = data_expand[exit]\n",
        "exit_node = exit.shape[1]\n",
        "exit = exit.values.tolist()"
      ],
      "execution_count": 0,
      "outputs": []
    },
    {
      "metadata": {
        "id": "gxuZ8FMes2lD",
        "colab_type": "code",
        "colab": {}
      },
      "cell_type": "code",
      "source": [
        "word = ['word_formation_1', 'word_formation_2']\n",
        "word = data_expand[word]\n",
        "word_node = word.shape[1]\n",
        "word = word.values.tolist()"
      ],
      "execution_count": 0,
      "outputs": []
    },
    {
      "metadata": {
        "id": "9fCOCvNVs3bf",
        "colab_type": "code",
        "colab": {}
      },
      "cell_type": "code",
      "source": [
        "constancy = ['constancy_1', 'constancy_2']\n",
        "constancy = data_expand[constancy]\n",
        "constancy_node = constancy.shape[1]\n",
        "constancy = constancy.values.tolist()"
      ],
      "execution_count": 0,
      "outputs": []
    },
    {
      "metadata": {
        "id": "A-hLC0rm714B",
        "colab_type": "text"
      },
      "cell_type": "markdown",
      "source": [
        "# Continued"
      ]
    },
    {
      "metadata": {
        "id": "eR9nZW3O_udu",
        "colab_type": "code",
        "outputId": "325dae9b-7e1a-48c2-cd97-db7965411500",
        "colab": {
          "base_uri": "https://localhost:8080/",
          "height": 35
        }
      },
      "cell_type": "code",
      "source": [
        "!pip install tqdm"
      ],
      "execution_count": 0,
      "outputs": [
        {
          "output_type": "stream",
          "text": [
            "Requirement already satisfied: tqdm in /usr/local/lib/python3.6/dist-packages (4.28.1)\n"
          ],
          "name": "stdout"
        }
      ]
    },
    {
      "metadata": {
        "id": "DMc-P8_XPz51",
        "colab_type": "code",
        "outputId": "4e45f795-9d0d-4dd7-e4ba-57c3cd39fb09",
        "colab": {
          "base_uri": "https://localhost:8080/",
          "height": 34
        }
      },
      "cell_type": "code",
      "source": [
        "import cv2\n",
        "import csv\n",
        "from tqdm import tqdm\n",
        "train_data = []\n",
        "pp=[]\n",
        "ls=[]\n",
        "s=[]\n",
        "d=[]\n",
        "l=[]\n",
        "c=[]\n",
        "sl=[]\n",
        "t=[]\n",
        "ea=[]\n",
        "sa=[]\n",
        "f=[]\n",
        "sd=[]\n",
        "ed=[]\n",
        "w=[]\n",
        "con=[]\n",
        "count=0\n",
        "with tqdm(total=13569) as pbar: \n",
        "  for row in data['imagename']:\n",
        "      if (count!=0):\n",
        "          pbar.update(1)\n",
        "          img1=cv2.imread('/content/drive/My Drive/images (1)/'+row,0)\n",
        "          try: \n",
        "            img1=img1/255\n",
        "          except:\n",
        "            count+=1\n",
        "            continue\n",
        "          train_data.append(img1)\n",
        "          pp.append(pen_pressure[count-1])\n",
        "          ls.append(letter_spacing[count-1])\n",
        "          s.append(size[count-1])\n",
        "          d.append(dimension[count-1])\n",
        "          l.append(lowercase[count-1])\n",
        "          c.append(continuous[count-1])\n",
        "          sl.append(slantness[count-1])\n",
        "          t.append(tilt[count-1])\n",
        "          ea.append(entry[count-1])\n",
        "          sa.append(staff[count-1])\n",
        "          f.append(formation[count-1])\n",
        "          sd.append(st[count-1])\n",
        "          ed.append(exit[count-1])\n",
        "          w.append(word[count-1])\n",
        "          con.append(constancy[count-1])\n",
        "      count=count+1   "
      ],
      "execution_count": 0,
      "outputs": [
        {
          "output_type": "stream",
          "text": [
            " 45%|████▍     | 6096/13569 [39:50<44:13,  2.82it/s]"
          ],
          "name": "stderr"
        }
      ]
    },
    {
      "metadata": {
        "id": "jgM8TyBk7x30",
        "colab_type": "code",
        "colab": {}
      },
      "cell_type": "code",
      "source": [
        "from sklearn.model_selection import train_test_split\n",
        "train_X,valid_X,train_ground,valid_ground = train_test_split(train_data,\n",
        "                                                             train_data,\n",
        "                                                             test_size=0.2)"
      ],
      "execution_count": 0,
      "outputs": []
    },
    {
      "metadata": {
        "id": "K8L13V5AAHSm",
        "colab_type": "code",
        "outputId": "420e6a79-7954-4578-cb6b-db73079f831c",
        "colab": {
          "base_uri": "https://localhost:8080/",
          "height": 35
        }
      },
      "cell_type": "code",
      "source": [
        "import numpy as np\n",
        "train_X = np.array(train_X).reshape(-1, 64,64, 1)\n",
        "valid_X = np.array(valid_X).reshape(-1, 64,64, 1)\n",
        "train_ground = np.array(train_ground).reshape(-1, 64,64, 1)\n",
        "valid_ground = np.array(valid_ground).reshape(-1, 64,64, 1)\n",
        "train_X.shape, valid_X.shape"
      ],
      "execution_count": 0,
      "outputs": [
        {
          "output_type": "execute_result",
          "data": {
            "text/plain": [
              "((10853, 64, 64, 1), (2714, 64, 64, 1))"
            ]
          },
          "metadata": {
            "tags": []
          },
          "execution_count": 27
        }
      ]
    },
    {
      "metadata": {
        "id": "TYPDbwCGOoU-",
        "colab_type": "code",
        "colab": {}
      },
      "cell_type": "code",
      "source": [
        "import numpy as np\n",
        "train_labels = [np.array(pp[0:10853]),np.array(ls[0:10853]),np.array(s[0:10853]),np.array(d[0:10853]), np.array(l[0:10853]), np.array(c[0:10853]),\n",
        "          np.array(sl[0:10853]),np.array(t[0:10853]),np.array(ea[0:10853]),\n",
        "          np.array(sa[0:10853]),np.array(f[0:10853]),np.array(sd[0:10853]),np.array(ed[0:10853]),np.array(w[0:10853]),\n",
        "          np.array(con[0:10853]) ]\n"
      ],
      "execution_count": 0,
      "outputs": []
    },
    {
      "metadata": {
        "id": "AS-tmVn7cFEu",
        "colab_type": "code",
        "colab": {}
      },
      "cell_type": "code",
      "source": [
        "batch_size = 64\n",
        "input_img = Input(shape = (64,64,1))\n",
        "input_img1 = Input(shape = (64,64,1))\n",
        "input_img2 = Input(shape = (64,64,1))"
      ],
      "execution_count": 0,
      "outputs": []
    },
    {
      "metadata": {
        "id": "fnMhZ3k5dQMy",
        "colab_type": "code",
        "colab": {}
      },
      "cell_type": "code",
      "source": [
        "def encoder(input_img):\n",
        "    #encoder\n",
        "    #input = 28 x 28 x 1 (wide and thin)\n",
        "    x = Conv2D(16, (3, 3), activation='relu', padding='same')(input_img)\n",
        "    x = MaxPooling2D((2, 2), padding='same')(x)\n",
        "    x = Conv2D(32, (3, 3), activation='relu', padding='same')(x)\n",
        "    x = MaxPooling2D((2, 2), padding='same')(x)\n",
        "    x = Conv2D(64, (3, 3), activation='relu', padding='same')(x)\n",
        "    x = MaxPooling2D((2, 2), padding='same')(x)\n",
        "    x = Conv2D(128, (3, 3), activation='relu', padding='same')(x)\n",
        "    x = MaxPooling2D((2, 2), padding='same')(x)\n",
        "    x = Conv2D(256, (3, 3), activation='relu', padding='same')(x)\n",
        "    x = MaxPooling2D((2, 2), padding='same')(x)\n",
        "    x = Conv2D(512, (3, 3), activation='relu', padding='same')(x)\n",
        "    encoded = MaxPooling2D((2, 2), padding='same')(x)\n",
        "    return encoded\n",
        "\n",
        "def decoder(encoded):    \n",
        "    #decoder\n",
        "    x = Conv2D(512, (3, 3), activation='relu', padding='same')(encoded)\n",
        "    x = UpSampling2D((2, 2))(x)\n",
        "    x = Conv2D(256, (3, 3), activation='relu', padding='same')(x)\n",
        "    x = UpSampling2D((2, 2))(x)\n",
        "    x = Conv2D(128, (3, 3), activation='relu', padding='same')(x)\n",
        "    x = UpSampling2D((2, 2))(x)\n",
        "    x = Conv2D(64, (3, 3), activation='relu', padding='same')(x)\n",
        "    x = UpSampling2D((2, 2))(x)\n",
        "    x = Conv2D(32, (3, 3), activation='relu', padding='same')(x)\n",
        "    x = UpSampling2D((2, 2))(x)\n",
        "    x = Conv2D(16, (3, 3), activation='relu', padding='same')(x)\n",
        "    x = UpSampling2D((2, 2))(x)\n",
        "    decoded = Conv2D(1, (3, 3), activation='sigmoid', padding='same')(x)\n",
        "    return decoded"
      ],
      "execution_count": 0,
      "outputs": []
    },
    {
      "metadata": {
        "id": "ILWJlQVvfZzE",
        "colab_type": "code",
        "colab": {}
      },
      "cell_type": "code",
      "source": [
        "autoencoder=Model(input_img,decoder(encoder(input_img)))\n",
        "autoencoder.compile(loss='binary_crossentropy', optimizer = 'adadelta')"
      ],
      "execution_count": 0,
      "outputs": []
    },
    {
      "metadata": {
        "id": "dUHdcoq1fbDE",
        "colab_type": "code",
        "outputId": "385ec7de-6373-4a89-85f6-1bd26f63b4b5",
        "colab": {
          "base_uri": "https://localhost:8080/",
          "height": 1055
        }
      },
      "cell_type": "code",
      "source": [
        "autoencoder.summary()"
      ],
      "execution_count": 0,
      "outputs": [
        {
          "output_type": "stream",
          "text": [
            "_________________________________________________________________\n",
            "Layer (type)                 Output Shape              Param #   \n",
            "=================================================================\n",
            "input_1 (InputLayer)         (None, 64, 64, 1)         0         \n",
            "_________________________________________________________________\n",
            "conv2d_50 (Conv2D)           (None, 64, 64, 16)        160       \n",
            "_________________________________________________________________\n",
            "max_pooling2d_43 (MaxPooling (None, 32, 32, 16)        0         \n",
            "_________________________________________________________________\n",
            "conv2d_51 (Conv2D)           (None, 32, 32, 32)        4640      \n",
            "_________________________________________________________________\n",
            "max_pooling2d_44 (MaxPooling (None, 16, 16, 32)        0         \n",
            "_________________________________________________________________\n",
            "conv2d_52 (Conv2D)           (None, 16, 16, 64)        18496     \n",
            "_________________________________________________________________\n",
            "max_pooling2d_45 (MaxPooling (None, 8, 8, 64)          0         \n",
            "_________________________________________________________________\n",
            "conv2d_53 (Conv2D)           (None, 8, 8, 128)         73856     \n",
            "_________________________________________________________________\n",
            "max_pooling2d_46 (MaxPooling (None, 4, 4, 128)         0         \n",
            "_________________________________________________________________\n",
            "conv2d_54 (Conv2D)           (None, 4, 4, 256)         295168    \n",
            "_________________________________________________________________\n",
            "max_pooling2d_47 (MaxPooling (None, 2, 2, 256)         0         \n",
            "_________________________________________________________________\n",
            "conv2d_55 (Conv2D)           (None, 2, 2, 512)         1180160   \n",
            "_________________________________________________________________\n",
            "max_pooling2d_48 (MaxPooling (None, 1, 1, 512)         0         \n",
            "_________________________________________________________________\n",
            "conv2d_56 (Conv2D)           (None, 1, 1, 512)         2359808   \n",
            "_________________________________________________________________\n",
            "up_sampling2d_7 (UpSampling2 (None, 2, 2, 512)         0         \n",
            "_________________________________________________________________\n",
            "conv2d_57 (Conv2D)           (None, 2, 2, 256)         1179904   \n",
            "_________________________________________________________________\n",
            "up_sampling2d_8 (UpSampling2 (None, 4, 4, 256)         0         \n",
            "_________________________________________________________________\n",
            "conv2d_58 (Conv2D)           (None, 4, 4, 128)         295040    \n",
            "_________________________________________________________________\n",
            "up_sampling2d_9 (UpSampling2 (None, 8, 8, 128)         0         \n",
            "_________________________________________________________________\n",
            "conv2d_59 (Conv2D)           (None, 8, 8, 64)          73792     \n",
            "_________________________________________________________________\n",
            "up_sampling2d_10 (UpSampling (None, 16, 16, 64)        0         \n",
            "_________________________________________________________________\n",
            "conv2d_60 (Conv2D)           (None, 16, 16, 32)        18464     \n",
            "_________________________________________________________________\n",
            "up_sampling2d_11 (UpSampling (None, 32, 32, 32)        0         \n",
            "_________________________________________________________________\n",
            "conv2d_61 (Conv2D)           (None, 32, 32, 16)        4624      \n",
            "_________________________________________________________________\n",
            "up_sampling2d_12 (UpSampling (None, 64, 64, 16)        0         \n",
            "_________________________________________________________________\n",
            "conv2d_62 (Conv2D)           (None, 64, 64, 1)         145       \n",
            "=================================================================\n",
            "Total params: 5,504,257\n",
            "Trainable params: 5,504,257\n",
            "Non-trainable params: 0\n",
            "_________________________________________________________________\n"
          ],
          "name": "stdout"
        }
      ]
    },
    {
      "metadata": {
        "id": "E4obwNWYff6A",
        "colab_type": "code",
        "outputId": "dcea09ad-efd2-41e3-902a-2b9bba76f7ef",
        "colab": {
          "base_uri": "https://localhost:8080/",
          "height": 4507
        }
      },
      "cell_type": "code",
      "source": [
        "from keras.callbacks import ModelCheckpoint, EarlyStopping\n",
        "es = EarlyStopping(patience=100, monitor='val_loss', min_delta=0.0005, mode='auto')\n",
        "autoencoder_train = autoencoder.fit(train_X, train_ground, callbacks = [es], batch_size=batch_size,epochs=125,verbose=1,validation_data=(valid_X, valid_ground))"
      ],
      "execution_count": 0,
      "outputs": [
        {
          "output_type": "stream",
          "text": [
            "WARNING:tensorflow:From /usr/local/lib/python3.6/dist-packages/tensorflow/python/ops/math_ops.py:3066: to_int32 (from tensorflow.python.ops.math_ops) is deprecated and will be removed in a future version.\n",
            "Instructions for updating:\n",
            "Use tf.cast instead.\n",
            "Train on 10852 samples, validate on 2713 samples\n",
            "Epoch 1/125\n",
            "10852/10852 [==============================] - 17s 2ms/step - loss: 0.2170 - val_loss: 0.1832\n",
            "Epoch 2/125\n",
            "10852/10852 [==============================] - 12s 1ms/step - loss: 0.1773 - val_loss: 0.1757\n",
            "Epoch 3/125\n",
            "10852/10852 [==============================] - 12s 1ms/step - loss: 0.1702 - val_loss: 0.1628\n",
            "Epoch 4/125\n",
            "10852/10852 [==============================] - 12s 1ms/step - loss: 0.1636 - val_loss: 0.1625\n",
            "Epoch 5/125\n",
            "10852/10852 [==============================] - 12s 1ms/step - loss: 0.1594 - val_loss: 0.1616\n",
            "Epoch 6/125\n",
            "10852/10852 [==============================] - 12s 1ms/step - loss: 0.1577 - val_loss: 0.1587\n",
            "Epoch 7/125\n",
            "10852/10852 [==============================] - 12s 1ms/step - loss: 0.1563 - val_loss: 0.1570\n",
            "Epoch 8/125\n",
            "10852/10852 [==============================] - 12s 1ms/step - loss: 0.1551 - val_loss: 0.1531\n",
            "Epoch 9/125\n",
            "10852/10852 [==============================] - 12s 1ms/step - loss: 0.1535 - val_loss: 0.1528\n",
            "Epoch 10/125\n",
            "10852/10852 [==============================] - 12s 1ms/step - loss: 0.1513 - val_loss: 0.1488\n",
            "Epoch 11/125\n",
            "10852/10852 [==============================] - 12s 1ms/step - loss: 0.1493 - val_loss: 0.1458\n",
            "Epoch 12/125\n",
            "10852/10852 [==============================] - 12s 1ms/step - loss: 0.1469 - val_loss: 0.1456\n",
            "Epoch 13/125\n",
            "10852/10852 [==============================] - 12s 1ms/step - loss: 0.1450 - val_loss: 0.1435\n",
            "Epoch 14/125\n",
            "10852/10852 [==============================] - 12s 1ms/step - loss: 0.1430 - val_loss: 0.1432\n",
            "Epoch 15/125\n",
            "10852/10852 [==============================] - 12s 1ms/step - loss: 0.1410 - val_loss: 0.1383\n",
            "Epoch 16/125\n",
            "10852/10852 [==============================] - 12s 1ms/step - loss: 0.1394 - val_loss: 0.1377\n",
            "Epoch 17/125\n",
            "10852/10852 [==============================] - 12s 1ms/step - loss: 0.1377 - val_loss: 0.1370\n",
            "Epoch 18/125\n",
            "10852/10852 [==============================] - 12s 1ms/step - loss: 0.1364 - val_loss: 0.1373\n",
            "Epoch 19/125\n",
            "10852/10852 [==============================] - 12s 1ms/step - loss: 0.1349 - val_loss: 0.1340\n",
            "Epoch 20/125\n",
            "10852/10852 [==============================] - 12s 1ms/step - loss: 0.1337 - val_loss: 0.1324\n",
            "Epoch 21/125\n",
            "10852/10852 [==============================] - 12s 1ms/step - loss: 0.1325 - val_loss: 0.1325\n",
            "Epoch 22/125\n",
            "10852/10852 [==============================] - 12s 1ms/step - loss: 0.1310 - val_loss: 0.1341\n",
            "Epoch 23/125\n",
            "10852/10852 [==============================] - 12s 1ms/step - loss: 0.1302 - val_loss: 0.1289\n",
            "Epoch 24/125\n",
            "10852/10852 [==============================] - 12s 1ms/step - loss: 0.1290 - val_loss: 0.1274\n",
            "Epoch 25/125\n",
            "10852/10852 [==============================] - 12s 1ms/step - loss: 0.1281 - val_loss: 0.1304\n",
            "Epoch 26/125\n",
            "10852/10852 [==============================] - 12s 1ms/step - loss: 0.1270 - val_loss: 0.1307\n",
            "Epoch 27/125\n",
            "10852/10852 [==============================] - 12s 1ms/step - loss: 0.1261 - val_loss: 0.1260\n",
            "Epoch 28/125\n",
            "10852/10852 [==============================] - 12s 1ms/step - loss: 0.1250 - val_loss: 0.1275\n",
            "Epoch 29/125\n",
            "10852/10852 [==============================] - 12s 1ms/step - loss: 0.1240 - val_loss: 0.1257\n",
            "Epoch 30/125\n",
            "10852/10852 [==============================] - 12s 1ms/step - loss: 0.1233 - val_loss: 0.1277\n",
            "Epoch 31/125\n",
            "10852/10852 [==============================] - 12s 1ms/step - loss: 0.1223 - val_loss: 0.1212\n",
            "Epoch 32/125\n",
            "10852/10852 [==============================] - 12s 1ms/step - loss: 0.1214 - val_loss: 0.1221\n",
            "Epoch 33/125\n",
            "10852/10852 [==============================] - 12s 1ms/step - loss: 0.1208 - val_loss: 0.1230\n",
            "Epoch 34/125\n",
            "10852/10852 [==============================] - 12s 1ms/step - loss: 0.1196 - val_loss: 0.1208\n",
            "Epoch 35/125\n",
            "10852/10852 [==============================] - 12s 1ms/step - loss: 0.1193 - val_loss: 0.1218\n",
            "Epoch 36/125\n",
            "10852/10852 [==============================] - 12s 1ms/step - loss: 0.1183 - val_loss: 0.1196\n",
            "Epoch 37/125\n",
            "10852/10852 [==============================] - 12s 1ms/step - loss: 0.1176 - val_loss: 0.1198\n",
            "Epoch 38/125\n",
            "10852/10852 [==============================] - 12s 1ms/step - loss: 0.1169 - val_loss: 0.1182\n",
            "Epoch 39/125\n",
            "10852/10852 [==============================] - 12s 1ms/step - loss: 0.1162 - val_loss: 0.1168\n",
            "Epoch 40/125\n",
            "10852/10852 [==============================] - 12s 1ms/step - loss: 0.1155 - val_loss: 0.1152\n",
            "Epoch 41/125\n",
            "10852/10852 [==============================] - 12s 1ms/step - loss: 0.1150 - val_loss: 0.1152\n",
            "Epoch 42/125\n",
            "10852/10852 [==============================] - 12s 1ms/step - loss: 0.1141 - val_loss: 0.1156\n",
            "Epoch 43/125\n",
            "10852/10852 [==============================] - 12s 1ms/step - loss: 0.1135 - val_loss: 0.1147\n",
            "Epoch 44/125\n",
            "10852/10852 [==============================] - 12s 1ms/step - loss: 0.1132 - val_loss: 0.1158\n",
            "Epoch 45/125\n",
            "10852/10852 [==============================] - 12s 1ms/step - loss: 0.1124 - val_loss: 0.1172\n",
            "Epoch 46/125\n",
            "10852/10852 [==============================] - 12s 1ms/step - loss: 0.1118 - val_loss: 0.1140\n",
            "Epoch 47/125\n",
            "10852/10852 [==============================] - 12s 1ms/step - loss: 0.1112 - val_loss: 0.1129\n",
            "Epoch 48/125\n",
            "10852/10852 [==============================] - 12s 1ms/step - loss: 0.1107 - val_loss: 0.1120\n",
            "Epoch 49/125\n",
            "10852/10852 [==============================] - 12s 1ms/step - loss: 0.1102 - val_loss: 0.1156\n",
            "Epoch 50/125\n",
            "10852/10852 [==============================] - 12s 1ms/step - loss: 0.1096 - val_loss: 0.1141\n",
            "Epoch 51/125\n",
            "10852/10852 [==============================] - 12s 1ms/step - loss: 0.1091 - val_loss: 0.1130\n",
            "Epoch 52/125\n",
            "10852/10852 [==============================] - 12s 1ms/step - loss: 0.1087 - val_loss: 0.1168\n",
            "Epoch 53/125\n",
            "10852/10852 [==============================] - 12s 1ms/step - loss: 0.1082 - val_loss: 0.1135\n",
            "Epoch 54/125\n",
            "10852/10852 [==============================] - 12s 1ms/step - loss: 0.1077 - val_loss: 0.1119\n",
            "Epoch 55/125\n",
            "10852/10852 [==============================] - 12s 1ms/step - loss: 0.1074 - val_loss: 0.1116\n",
            "Epoch 56/125\n",
            "10852/10852 [==============================] - 12s 1ms/step - loss: 0.1066 - val_loss: 0.1094\n",
            "Epoch 57/125\n",
            "10852/10852 [==============================] - 12s 1ms/step - loss: 0.1063 - val_loss: 0.1106\n",
            "Epoch 58/125\n",
            "10852/10852 [==============================] - 12s 1ms/step - loss: 0.1058 - val_loss: 0.1089\n",
            "Epoch 59/125\n",
            "10852/10852 [==============================] - 12s 1ms/step - loss: 0.1055 - val_loss: 0.1111\n",
            "Epoch 60/125\n",
            "10852/10852 [==============================] - 12s 1ms/step - loss: 0.1047 - val_loss: 0.1112\n",
            "Epoch 61/125\n",
            "10852/10852 [==============================] - 12s 1ms/step - loss: 0.1047 - val_loss: 0.1086\n",
            "Epoch 62/125\n",
            "10852/10852 [==============================] - 12s 1ms/step - loss: 0.1041 - val_loss: 0.1115\n",
            "Epoch 63/125\n",
            "10852/10852 [==============================] - 12s 1ms/step - loss: 0.1038 - val_loss: 0.1080\n",
            "Epoch 64/125\n",
            "10852/10852 [==============================] - 12s 1ms/step - loss: 0.1032 - val_loss: 0.1077\n",
            "Epoch 65/125\n",
            "10852/10852 [==============================] - 12s 1ms/step - loss: 0.1029 - val_loss: 0.1092\n",
            "Epoch 66/125\n",
            "10852/10852 [==============================] - 12s 1ms/step - loss: 0.1026 - val_loss: 0.1067\n",
            "Epoch 67/125\n",
            "10852/10852 [==============================] - 12s 1ms/step - loss: 0.1021 - val_loss: 0.1069\n",
            "Epoch 68/125\n",
            "10852/10852 [==============================] - 12s 1ms/step - loss: 0.1018 - val_loss: 0.1072\n",
            "Epoch 69/125\n",
            "10852/10852 [==============================] - 12s 1ms/step - loss: 0.1015 - val_loss: 0.1056\n",
            "Epoch 70/125\n",
            "10852/10852 [==============================] - 12s 1ms/step - loss: 0.1010 - val_loss: 0.1072\n",
            "Epoch 71/125\n",
            "10852/10852 [==============================] - 12s 1ms/step - loss: 0.1008 - val_loss: 0.1054\n",
            "Epoch 72/125\n",
            "10852/10852 [==============================] - 12s 1ms/step - loss: 0.1003 - val_loss: 0.1085\n",
            "Epoch 73/125\n",
            "10852/10852 [==============================] - 12s 1ms/step - loss: 0.0999 - val_loss: 0.1095\n",
            "Epoch 74/125\n",
            "10852/10852 [==============================] - 12s 1ms/step - loss: 0.0999 - val_loss: 0.1087\n",
            "Epoch 75/125\n",
            "10852/10852 [==============================] - 12s 1ms/step - loss: 0.0994 - val_loss: 0.1062\n",
            "Epoch 76/125\n",
            "10852/10852 [==============================] - 12s 1ms/step - loss: 0.0990 - val_loss: 0.1043\n",
            "Epoch 77/125\n",
            "10852/10852 [==============================] - 12s 1ms/step - loss: 0.0986 - val_loss: 0.1065\n",
            "Epoch 78/125\n",
            "10852/10852 [==============================] - 12s 1ms/step - loss: 0.0983 - val_loss: 0.1082\n",
            "Epoch 79/125\n",
            "10852/10852 [==============================] - 12s 1ms/step - loss: 0.0980 - val_loss: 0.1036\n",
            "Epoch 80/125\n",
            "10852/10852 [==============================] - 12s 1ms/step - loss: 0.0976 - val_loss: 0.1060\n",
            "Epoch 81/125\n",
            "10852/10852 [==============================] - 12s 1ms/step - loss: 0.0974 - val_loss: 0.1043\n",
            "Epoch 82/125\n",
            "10852/10852 [==============================] - 12s 1ms/step - loss: 0.0972 - val_loss: 0.1036\n",
            "Epoch 83/125\n",
            "10852/10852 [==============================] - 12s 1ms/step - loss: 0.0968 - val_loss: 0.1065\n",
            "Epoch 84/125\n",
            "10852/10852 [==============================] - 12s 1ms/step - loss: 0.0964 - val_loss: 0.1038\n",
            "Epoch 85/125\n",
            "10852/10852 [==============================] - 12s 1ms/step - loss: 0.0962 - val_loss: 0.1041\n",
            "Epoch 86/125\n",
            "10852/10852 [==============================] - 12s 1ms/step - loss: 0.0959 - val_loss: 0.1045\n",
            "Epoch 87/125\n",
            "10852/10852 [==============================] - 12s 1ms/step - loss: 0.0956 - val_loss: 0.1045\n",
            "Epoch 88/125\n",
            "10852/10852 [==============================] - 12s 1ms/step - loss: 0.0954 - val_loss: 0.1044\n",
            "Epoch 89/125\n",
            "10852/10852 [==============================] - 12s 1ms/step - loss: 0.0951 - val_loss: 0.1022\n",
            "Epoch 90/125\n",
            "10852/10852 [==============================] - 12s 1ms/step - loss: 0.0949 - val_loss: 0.1036\n",
            "Epoch 91/125\n",
            "10852/10852 [==============================] - 12s 1ms/step - loss: 0.0945 - val_loss: 0.1042\n",
            "Epoch 92/125\n",
            "10852/10852 [==============================] - 12s 1ms/step - loss: 0.0942 - val_loss: 0.1056\n",
            "Epoch 93/125\n",
            "10852/10852 [==============================] - 12s 1ms/step - loss: 0.0939 - val_loss: 0.1032\n",
            "Epoch 94/125\n",
            "10852/10852 [==============================] - 12s 1ms/step - loss: 0.0937 - val_loss: 0.1028\n",
            "Epoch 95/125\n",
            "10852/10852 [==============================] - 12s 1ms/step - loss: 0.0936 - val_loss: 0.1026\n",
            "Epoch 96/125\n",
            "10852/10852 [==============================] - 12s 1ms/step - loss: 0.0933 - val_loss: 0.1052\n",
            "Epoch 97/125\n",
            "10852/10852 [==============================] - 12s 1ms/step - loss: 0.0927 - val_loss: 0.1039\n",
            "Epoch 98/125\n",
            "10852/10852 [==============================] - 12s 1ms/step - loss: 0.0928 - val_loss: 0.1028\n",
            "Epoch 99/125\n",
            "10852/10852 [==============================] - 12s 1ms/step - loss: 0.0926 - val_loss: 0.1036\n",
            "Epoch 100/125\n",
            "10852/10852 [==============================] - 12s 1ms/step - loss: 0.0920 - val_loss: 0.1031\n",
            "Epoch 101/125\n",
            "10852/10852 [==============================] - 12s 1ms/step - loss: 0.0921 - val_loss: 0.1051\n",
            "Epoch 102/125\n",
            "10852/10852 [==============================] - 12s 1ms/step - loss: 0.0919 - val_loss: 0.1041\n",
            "Epoch 103/125\n",
            "10852/10852 [==============================] - 12s 1ms/step - loss: 0.0916 - val_loss: 0.1045\n",
            "Epoch 104/125\n",
            "10852/10852 [==============================] - 12s 1ms/step - loss: 0.0911 - val_loss: 0.1008\n",
            "Epoch 105/125\n",
            "10852/10852 [==============================] - 12s 1ms/step - loss: 0.0911 - val_loss: 0.1038\n",
            "Epoch 106/125\n",
            "10852/10852 [==============================] - 12s 1ms/step - loss: 0.0909 - val_loss: 0.1019\n",
            "Epoch 107/125\n",
            "10852/10852 [==============================] - 12s 1ms/step - loss: 0.0905 - val_loss: 0.1031\n",
            "Epoch 108/125\n",
            "10852/10852 [==============================] - 12s 1ms/step - loss: 0.0904 - val_loss: 0.1020\n",
            "Epoch 109/125\n",
            "10852/10852 [==============================] - 12s 1ms/step - loss: 0.0904 - val_loss: 0.1013\n",
            "Epoch 110/125\n",
            "10852/10852 [==============================] - 12s 1ms/step - loss: 0.0898 - val_loss: 0.1016\n",
            "Epoch 111/125\n",
            "10852/10852 [==============================] - 12s 1ms/step - loss: 0.0897 - val_loss: 0.1037\n",
            "Epoch 112/125\n",
            "10852/10852 [==============================] - 12s 1ms/step - loss: 0.0897 - val_loss: 0.1022\n",
            "Epoch 113/125\n",
            "10852/10852 [==============================] - 12s 1ms/step - loss: 0.0893 - val_loss: 0.1020\n",
            "Epoch 114/125\n",
            "10852/10852 [==============================] - 12s 1ms/step - loss: 0.0893 - val_loss: 0.1045\n",
            "Epoch 115/125\n",
            "10852/10852 [==============================] - 12s 1ms/step - loss: 0.0889 - val_loss: 0.1013\n",
            "Epoch 116/125\n",
            "10852/10852 [==============================] - 12s 1ms/step - loss: 0.0887 - val_loss: 0.1028\n",
            "Epoch 117/125\n",
            "10852/10852 [==============================] - 12s 1ms/step - loss: 0.0883 - val_loss: 0.1018\n",
            "Epoch 118/125\n",
            "10852/10852 [==============================] - 12s 1ms/step - loss: 0.0884 - val_loss: 0.1038\n",
            "Epoch 119/125\n",
            "10852/10852 [==============================] - 12s 1ms/step - loss: 0.0880 - val_loss: 0.1019\n",
            "Epoch 120/125\n",
            "10852/10852 [==============================] - 12s 1ms/step - loss: 0.0880 - val_loss: 0.1029\n",
            "Epoch 121/125\n",
            "10852/10852 [==============================] - 12s 1ms/step - loss: 0.0879 - val_loss: 0.1028\n",
            "Epoch 122/125\n",
            "10852/10852 [==============================] - 12s 1ms/step - loss: 0.0875 - val_loss: 0.1011\n",
            "Epoch 123/125\n",
            "10852/10852 [==============================] - 12s 1ms/step - loss: 0.0874 - val_loss: 0.1036\n",
            "Epoch 124/125\n",
            "10852/10852 [==============================] - 12s 1ms/step - loss: 0.0870 - val_loss: 0.1034\n",
            "Epoch 125/125\n",
            "10852/10852 [==============================] - 12s 1ms/step - loss: 0.0872 - val_loss: 0.1056\n"
          ],
          "name": "stdout"
        }
      ]
    },
    {
      "metadata": {
        "id": "M6fvglz3hNES",
        "colab_type": "code",
        "colab": {}
      },
      "cell_type": "code",
      "source": [
        "autoencoder.save_weights('autoencoder.h5')\n"
      ],
      "execution_count": 0,
      "outputs": []
    },
    {
      "metadata": {
        "id": "IfHvdWqUXCGz",
        "colab_type": "code",
        "colab": {}
      },
      "cell_type": "code",
      "source": [
        "autoencoder.load_weights('autoencoder.h5')\n"
      ],
      "execution_count": 0,
      "outputs": []
    },
    {
      "metadata": {
        "id": "OnhXJbV9hjAe",
        "colab_type": "code",
        "colab": {}
      },
      "cell_type": "code",
      "source": [
        "def encoder(input_img):\n",
        "    #encoder\n",
        "    #input = 28 x 28 x 1 (wide and thin)\n",
        "    x = Conv2D(16, (3, 3), activation='relu', padding='same')(input_img)\n",
        "    x = MaxPooling2D((2, 2), padding='same')(x)\n",
        "    x = Conv2D(32, (3, 3), activation='relu', padding='same')(x)\n",
        "    x = MaxPooling2D((2, 2), padding='same')(x)\n",
        "    x = Conv2D(64, (3, 3), activation='relu', padding='same')(x)\n",
        "    x = MaxPooling2D((2, 2), padding='same')(x)\n",
        "    x = Conv2D(128, (3, 3), activation='relu', padding='same')(x)\n",
        "    x = MaxPooling2D((2, 2), padding='same')(x)\n",
        "    x = Conv2D(256, (3, 3), activation='relu', padding='same')(x)\n",
        "    x = MaxPooling2D((2, 2), padding='same')(x)\n",
        "    x = Conv2D(512, (3, 3), activation='relu', padding='same')(x)\n",
        "    encoded = MaxPooling2D((2, 2), padding='same')(x)\n",
        "#     encoded = Flatten()(encoded)\n",
        "    return encoded\n",
        "encoder = Model(input_img1, encoder(input_img1),  name = 'EncoderModel')\n",
        "for l1,l2 in zip(encoder.layers[:12],autoencoder.layers[0:12]):\n",
        "   l1.set_weights(l2.get_weights())\n",
        "encoder.compile(optimizer='adam', loss = 'categorical_crossentropy', metrics = ['accuracy'])"
      ],
      "execution_count": 0,
      "outputs": []
    },
    {
      "metadata": {
        "colab_type": "code",
        "id": "WUThN0A8hSnU",
        "colab": {}
      },
      "cell_type": "code",
      "source": [
        "# from keras.layers import concatenate\n",
        "# img_a_in = Input(shape = train_data1.shape[1:], name = 'ImageA_Input')\n",
        "# img_b_in = Input(shape = train_data2.shape[1:], name = 'ImageB_Input')\n",
        "# img_a_feat = encoder(img_a_in)\n",
        "# img_b_feat = encoder(img_b_in)\n",
        "# combined_features = concatenate([img_a_feat, img_b_feat], name = 'merge_features')\n",
        "# combined_features = Dense(256, activation = 'sigmoid')(combined_features)\n",
        "# combined_features = Activation('relu')(combined_features)\n",
        "# combined_features = Dense(64, activation = 'sigmoid')(combined_features)\n",
        "# combined_features = Activation('relu')(combined_features)\n",
        "# combined_features = Dense(1, activation = 'sigmoid')(combined_features)\n",
        "# similarity_model = Model(inputs = [img_a_in, img_b_in], outputs = [combined_features], name = 'Similarity_Model')\n",
        "# similarity_model.summary()\n",
        "# similarity_model.compile(optimizer='adam', loss = 'binary_crossentropy', metrics = ['accuracy'])"
      ],
      "execution_count": 0,
      "outputs": []
    },
    {
      "metadata": {
        "id": "3HRrkZmpZolc",
        "colab_type": "code",
        "colab": {}
      },
      "cell_type": "code",
      "source": [
        "# from keras.layers import *\n",
        "# encoder1 = Model(input_img1, encoder(input_img1))\n",
        "# encoder2 = Model(input_img2, encoder(input_img2))\n",
        "# for l1,l2 in zip(encoder1.layers[:12],autoencoder.layers[0:12]):\n",
        "#     l1.set_weights(l2.get_weights())\n",
        "# for l1,l2 in zip(encoder2.layers[:12],autoencoder.layers[0:12]):\n",
        "#     l1.set_weights(l2.get_weights())\n",
        "# concatenated = concatenate([encoder(input_img1), encoder(input_img2)])\n",
        "# out = Dense(256, activation='relu')(concatenated)\n",
        "# out = Dense(1, activation='sigmoid', name='output_layer')(out)\n",
        "# merged_model = Model([input_img1, input_img], out)\n",
        "# merged_model.compile(loss='binary_crossentropy', optimizer='adam', metrics=['accuracy'])"
      ],
      "execution_count": 0,
      "outputs": []
    },
    {
      "metadata": {
        "id": "LoNw4AikcCmx",
        "colab_type": "code",
        "colab": {}
      },
      "cell_type": "code",
      "source": [
        "# for layer in similarity_model.layers:\n",
        "#      print(layer.get_weights())\n",
        "# # for i in range(0,12):\n",
        "# #   l1=merged_model.layers[2*i]\n",
        "# #   l2=merged_model.layers[(2*i)+1]\n",
        "# #   l3=autoencoder.layers[i]\n",
        "# #   l1.set_weights(l3.get_weights())\n",
        "# #   l2.set_weights(l3.get_weights())\n",
        "# # merged_model.compile(loss='binary_crossentropy', optimizer='adam', metrics=['accuracy'])"
      ],
      "execution_count": 0,
      "outputs": []
    },
    {
      "metadata": {
        "id": "HK0l7hINLXUy",
        "colab_type": "code",
        "outputId": "b59a703d-0c39-46fb-a000-c5bb4792d9e6",
        "colab": {
          "base_uri": "https://localhost:8080/",
          "height": 35
        }
      },
      "cell_type": "code",
      "source": [
        "import cv2\n",
        "import csv\n",
        "from tqdm import tqdm\n",
        "count=0\n",
        "train_data1=[]\n",
        "train_data2=[]\n",
        "train_target=[]\n",
        "with tqdm(total=111753) as pbar:\n",
        "  with open('/content/drive/My Drive/seen/seen-dataset/dataset_seen_training_siamese.csv', 'r') as f:\n",
        "      reader = csv.reader(f)\n",
        "      for row in reader:\n",
        "          if (count == 30000):\n",
        "            break\n",
        "          if (count!=0):\n",
        "              pbar.update(1)\n",
        "              img1=cv2.imread('/content/drive/My Drive/images (1)/'+row[1],0)\n",
        "              img2=cv2.imread('/content/drive/My Drive/images (1)/'+row[2],0)\n",
        "              try: \n",
        "                img1=img1/255\n",
        "                img2=img2/255\n",
        "              except:\n",
        "                count+=1\n",
        "                continue\n",
        "              train_data1.append(img1)\n",
        "              train_data2.append(img2)\n",
        "              train_target.append(int(row[3]))\n",
        "          count=count+1   \n"
      ],
      "execution_count": 0,
      "outputs": [
        {
          "output_type": "stream",
          "text": [
            " 27%|██▋       | 29999/111753 [06:56<18:55, 71.97it/s]\n"
          ],
          "name": "stderr"
        }
      ]
    },
    {
      "metadata": {
        "id": "0j6pya4_TgKs",
        "colab_type": "code",
        "colab": {}
      },
      "cell_type": "code",
      "source": [
        "import cv2\n",
        "import csv\n",
        "with open('/content/drive/My Drive/seen/seen-dataset/dataset_seen_validation_siamese.csv', 'r') as f:\n",
        "    reader = csv.reader(f)\n",
        "    count=0\n",
        "    val_data1=[]\n",
        "    val_data2=[]\n",
        "    val_target=[]\n",
        "    for row in reader:\n",
        "#         print(count)\n",
        "        if (count!=0):\n",
        "            img1=cv2.imread('/content/drive/My Drive/images (1)/'+row[1],0)\n",
        "            img2=cv2.imread('/content/drive/My Drive/images (1)/'+row[2],0)\n",
        "            try: \n",
        "              img1=img1/255\n",
        "              img2=img2/255\n",
        "            except:\n",
        "              count+=1\n",
        "              continue\n",
        "            val_data1.append(img1)\n",
        "            val_data2.append(img2)\n",
        "            val_target.append(int(row[3]))\n",
        "        count=count+1   \n"
      ],
      "execution_count": 0,
      "outputs": []
    },
    {
      "metadata": {
        "id": "gwcrGqFfO4Sj",
        "colab_type": "code",
        "colab": {}
      },
      "cell_type": "code",
      "source": [
        "def myGenerator(train_data1,train_data2,train_target):\n",
        "  i=0\n",
        "  while i<train_data1.shape[0]:\n",
        "    yield [train_data1[i:i+100], train_data2[i:i+100]], train_target[i:i+100]\n",
        "    if i + 100 > train_data1.shape[0]:\n",
        "      i = 0\n",
        "    else:\n",
        "      i += 100"
      ],
      "execution_count": 0,
      "outputs": []
    },
    {
      "metadata": {
        "id": "hrpXu6qVVQP7",
        "colab_type": "code",
        "colab": {}
      },
      "cell_type": "code",
      "source": [
        "train_data1=np.array(train_data1)\n",
        "train_data2=np.array(train_data2)\n",
        "train_data1=np.asarray(train_data1).reshape((-1, 64, 64, 1))\n",
        "train_data2=np.asarray(train_data2).reshape((-1, 64, 64, 1))\n",
        "val_data1=np.array(val_data1)\n",
        "val_data2=np.array(val_data2)\n",
        "val_data1=np.asarray(val_data1).reshape((-1, 64, 64, 1))\n",
        "val_data2=np.asarray(val_data2).reshape((-1, 64, 64, 1))"
      ],
      "execution_count": 0,
      "outputs": []
    },
    {
      "metadata": {
        "id": "l5Zd2bFMdkLI",
        "colab_type": "code",
        "colab": {}
      },
      "cell_type": "code",
      "source": [
        "# classify_train = similarity_model.fit([train_data1, train_data2], train_target, batch_size=1000,epochs=5,verbose=1,validation_data=([val_data1,val_data2], val_target))\n"
      ],
      "execution_count": 0,
      "outputs": []
    },
    {
      "metadata": {
        "id": "xMAbl1yvPJ53",
        "colab_type": "code",
        "colab": {}
      },
      "cell_type": "code",
      "source": [
        "# hist = similarity_model.fit_generator(myGenerator(train_data1,train_data2,train_target)\n",
        "#                                      , epochs=20\n",
        "#                                      , steps_per_epoch = 300\n",
        "#                                      , validation_data = myGenerator(val_data1,val_data2,val_target)\n",
        "#                                      , validation_steps = 10\n",
        "#                                      , verbose = 1\n",
        "\n",
        "#                                     )"
      ],
      "execution_count": 0,
      "outputs": []
    },
    {
      "metadata": {
        "id": "dgTp7ZBXkKXd",
        "colab_type": "code",
        "colab": {}
      },
      "cell_type": "code",
      "source": [
        "def fc(enco,shape,na):\n",
        "    flat = Flatten()(enco)\n",
        "    den = Dense(256, activation='relu')(flat)\n",
        "    out = Dense(shape, activation='softmax',name=na)(den)\n",
        "    return out"
      ],
      "execution_count": 0,
      "outputs": []
    },
    {
      "metadata": {
        "id": "WEiLFOe6Mh1W",
        "colab_type": "code",
        "colab": {}
      },
      "cell_type": "code",
      "source": [
        "loss_list = [\"categorical_crossentropy\",'categorical_crossentropy',\n",
        "'categorical_crossentropy','categorical_crossentropy',\n",
        "'categorical_crossentropy',\"categorical_crossentropy\",'categorical_crossentropy',\n",
        "'categorical_crossentropy','categorical_crossentropy',\n",
        "'categorical_crossentropy',\"categorical_crossentropy\",'categorical_crossentropy',\n",
        "'categorical_crossentropy','categorical_crossentropy',\n",
        "'categorical_crossentropy']\n",
        "\n",
        "test_metrics = {'pen_pressure': 'accuracy','letter_space': 'accuracy',\n",
        "               'size': 'accuracy','dimension': 'accuracy',\n",
        "               'lowercase': 'accuracy', 'continuous': 'accuracy','slantness': 'accuracy',\n",
        "               'tilt': 'accuracy','entry stroke of a': 'accuracy',\n",
        "               'staff of a': 'accuracy', 'formation of n': 'accuracy','staff of d': 'accuracy',\n",
        "               'exit stroke of d': 'accuracy','word_formation': 'accuracy',\n",
        "               'constancy': 'accuracy'}"
      ],
      "execution_count": 0,
      "outputs": []
    },
    {
      "metadata": {
        "id": "Yu06KaNpkti7",
        "colab_type": "code",
        "colab": {}
      },
      "cell_type": "code",
      "source": [
        "encode = encoder(input_img)\n",
        "f1 = fc(encode,pen_node,'pen_pressure')\n",
        "f2 = fc(encode,letter_node,'letter_space')\n",
        "f3= fc(encode,size_node,'size')\n",
        "f4 =fc(encode,dimension_node,'dimension')\n",
        "f5 = fc(encode,lowercase_node,'lowercase')\n",
        "f6 = fc(encode,continuous_node,'continuous')\n",
        "f7 = fc(encode,slantness_node,'slantness')\n",
        "f8 = fc(encode,tilt_node,'tilt')\n",
        "f9 = fc(encode,entry_node,'entry_a')\n",
        "f10 = fc(encode,staff_node,'staff_a')\n",
        "f11 = fc(encode,formation_node,'formation_n')\n",
        "f12 = fc(encode,st_node,'staff_d')\n",
        "f13 = fc(encode,exit_node,'exit_d')\n",
        "f14 = fc(encode,word_node,'word')\n",
        "f15 = fc(encode,constancy_node,'constancy')\n",
        "  \n",
        "model = Model(input_img, outputs=[f1, f2, f3, f4, f5, f6, f7, f8, f9, f10, f11, f12, f13, f14, f15])\n",
        "for l1,l2 in zip(model.layers[:12],autoencoder.layers[0:12]):\n",
        "    l1.set_weights(l2.get_weights())\n"
      ],
      "execution_count": 0,
      "outputs": []
    },
    {
      "metadata": {
        "id": "_nfSJ86E8Qdc",
        "colab_type": "code",
        "colab": {}
      },
      "cell_type": "code",
      "source": [
        "for layer in model.layers[0:12]:\n",
        "    layer.trainable = False\n",
        "model.compile(loss=loss_list, optimizer=SGD(lr=0.01,momentum=0.9), metrics=test_metrics)\n",
        "# auto_model=Model(input_img,encode)\n",
        "# for l1,l2 in zip(auto_model.layers[:26],autoencoder.layers[0:26]):\n",
        "#     l1.set_weights(l2.get_weights())\n",
        "# auto_model.compile(loss=keras.losses.categorical_crossentropy, optimizer=keras.optimizers.Adam(),metrics=['accuracy'])"
      ],
      "execution_count": 0,
      "outputs": []
    },
    {
      "metadata": {
        "id": "8FGVjpII8jCi",
        "colab_type": "code",
        "outputId": "39dc37c2-a2d4-4982-8438-8768ea5faae4",
        "colab": {
          "base_uri": "https://localhost:8080/",
          "height": 2219
        }
      },
      "cell_type": "code",
      "source": [
        "model.summary()\n",
        "print(model.metrics_names)"
      ],
      "execution_count": 0,
      "outputs": [
        {
          "output_type": "stream",
          "text": [
            "__________________________________________________________________________________________________\n",
            "Layer (type)                    Output Shape         Param #     Connected to                     \n",
            "==================================================================================================\n",
            "input_1 (InputLayer)            (None, 64, 64, 1)    0                                            \n",
            "__________________________________________________________________________________________________\n",
            "conv2d_63 (Conv2D)              (None, 64, 64, 16)   160         input_1[0][0]                    \n",
            "__________________________________________________________________________________________________\n",
            "max_pooling2d_49 (MaxPooling2D) (None, 32, 32, 16)   0           conv2d_63[0][0]                  \n",
            "__________________________________________________________________________________________________\n",
            "conv2d_64 (Conv2D)              (None, 32, 32, 32)   4640        max_pooling2d_49[0][0]           \n",
            "__________________________________________________________________________________________________\n",
            "max_pooling2d_50 (MaxPooling2D) (None, 16, 16, 32)   0           conv2d_64[0][0]                  \n",
            "__________________________________________________________________________________________________\n",
            "conv2d_65 (Conv2D)              (None, 16, 16, 64)   18496       max_pooling2d_50[0][0]           \n",
            "__________________________________________________________________________________________________\n",
            "max_pooling2d_51 (MaxPooling2D) (None, 8, 8, 64)     0           conv2d_65[0][0]                  \n",
            "__________________________________________________________________________________________________\n",
            "conv2d_66 (Conv2D)              (None, 8, 8, 128)    73856       max_pooling2d_51[0][0]           \n",
            "__________________________________________________________________________________________________\n",
            "max_pooling2d_52 (MaxPooling2D) (None, 4, 4, 128)    0           conv2d_66[0][0]                  \n",
            "__________________________________________________________________________________________________\n",
            "conv2d_67 (Conv2D)              (None, 4, 4, 256)    295168      max_pooling2d_52[0][0]           \n",
            "__________________________________________________________________________________________________\n",
            "max_pooling2d_53 (MaxPooling2D) (None, 2, 2, 256)    0           conv2d_67[0][0]                  \n",
            "__________________________________________________________________________________________________\n",
            "conv2d_68 (Conv2D)              (None, 2, 2, 512)    1180160     max_pooling2d_53[0][0]           \n",
            "__________________________________________________________________________________________________\n",
            "max_pooling2d_54 (MaxPooling2D) (None, 1, 1, 512)    0           conv2d_68[0][0]                  \n",
            "__________________________________________________________________________________________________\n",
            "flatten_2 (Flatten)             (None, 512)          0           max_pooling2d_54[0][0]           \n",
            "__________________________________________________________________________________________________\n",
            "flatten_3 (Flatten)             (None, 512)          0           max_pooling2d_54[0][0]           \n",
            "__________________________________________________________________________________________________\n",
            "flatten_4 (Flatten)             (None, 512)          0           max_pooling2d_54[0][0]           \n",
            "__________________________________________________________________________________________________\n",
            "flatten_5 (Flatten)             (None, 512)          0           max_pooling2d_54[0][0]           \n",
            "__________________________________________________________________________________________________\n",
            "flatten_6 (Flatten)             (None, 512)          0           max_pooling2d_54[0][0]           \n",
            "__________________________________________________________________________________________________\n",
            "flatten_7 (Flatten)             (None, 512)          0           max_pooling2d_54[0][0]           \n",
            "__________________________________________________________________________________________________\n",
            "flatten_8 (Flatten)             (None, 512)          0           max_pooling2d_54[0][0]           \n",
            "__________________________________________________________________________________________________\n",
            "flatten_9 (Flatten)             (None, 512)          0           max_pooling2d_54[0][0]           \n",
            "__________________________________________________________________________________________________\n",
            "flatten_10 (Flatten)            (None, 512)          0           max_pooling2d_54[0][0]           \n",
            "__________________________________________________________________________________________________\n",
            "flatten_11 (Flatten)            (None, 512)          0           max_pooling2d_54[0][0]           \n",
            "__________________________________________________________________________________________________\n",
            "flatten_12 (Flatten)            (None, 512)          0           max_pooling2d_54[0][0]           \n",
            "__________________________________________________________________________________________________\n",
            "flatten_13 (Flatten)            (None, 512)          0           max_pooling2d_54[0][0]           \n",
            "__________________________________________________________________________________________________\n",
            "flatten_14 (Flatten)            (None, 512)          0           max_pooling2d_54[0][0]           \n",
            "__________________________________________________________________________________________________\n",
            "flatten_15 (Flatten)            (None, 512)          0           max_pooling2d_54[0][0]           \n",
            "__________________________________________________________________________________________________\n",
            "flatten_16 (Flatten)            (None, 512)          0           max_pooling2d_54[0][0]           \n",
            "__________________________________________________________________________________________________\n",
            "dense_11 (Dense)                (None, 256)          131328      flatten_2[0][0]                  \n",
            "__________________________________________________________________________________________________\n",
            "dense_12 (Dense)                (None, 256)          131328      flatten_3[0][0]                  \n",
            "__________________________________________________________________________________________________\n",
            "dense_13 (Dense)                (None, 256)          131328      flatten_4[0][0]                  \n",
            "__________________________________________________________________________________________________\n",
            "dense_14 (Dense)                (None, 256)          131328      flatten_5[0][0]                  \n",
            "__________________________________________________________________________________________________\n",
            "dense_15 (Dense)                (None, 256)          131328      flatten_6[0][0]                  \n",
            "__________________________________________________________________________________________________\n",
            "dense_16 (Dense)                (None, 256)          131328      flatten_7[0][0]                  \n",
            "__________________________________________________________________________________________________\n",
            "dense_17 (Dense)                (None, 256)          131328      flatten_8[0][0]                  \n",
            "__________________________________________________________________________________________________\n",
            "dense_18 (Dense)                (None, 256)          131328      flatten_9[0][0]                  \n",
            "__________________________________________________________________________________________________\n",
            "dense_19 (Dense)                (None, 256)          131328      flatten_10[0][0]                 \n",
            "__________________________________________________________________________________________________\n",
            "dense_20 (Dense)                (None, 256)          131328      flatten_11[0][0]                 \n",
            "__________________________________________________________________________________________________\n",
            "dense_21 (Dense)                (None, 256)          131328      flatten_12[0][0]                 \n",
            "__________________________________________________________________________________________________\n",
            "dense_22 (Dense)                (None, 256)          131328      flatten_13[0][0]                 \n",
            "__________________________________________________________________________________________________\n",
            "dense_23 (Dense)                (None, 256)          131328      flatten_14[0][0]                 \n",
            "__________________________________________________________________________________________________\n",
            "dense_24 (Dense)                (None, 256)          131328      flatten_15[0][0]                 \n",
            "__________________________________________________________________________________________________\n",
            "dense_25 (Dense)                (None, 256)          131328      flatten_16[0][0]                 \n",
            "__________________________________________________________________________________________________\n",
            "pen_pressure (Dense)            (None, 2)            514         dense_11[0][0]                   \n",
            "__________________________________________________________________________________________________\n",
            "letter_space (Dense)            (None, 3)            771         dense_12[0][0]                   \n",
            "__________________________________________________________________________________________________\n",
            "size (Dense)                    (None, 3)            771         dense_13[0][0]                   \n",
            "__________________________________________________________________________________________________\n",
            "dimension (Dense)               (None, 3)            771         dense_14[0][0]                   \n",
            "__________________________________________________________________________________________________\n",
            "lowercase (Dense)               (None, 2)            514         dense_15[0][0]                   \n",
            "__________________________________________________________________________________________________\n",
            "continuous (Dense)              (None, 2)            514         dense_16[0][0]                   \n",
            "__________________________________________________________________________________________________\n",
            "slantness (Dense)               (None, 4)            1028        dense_17[0][0]                   \n",
            "__________________________________________________________________________________________________\n",
            "tilt (Dense)                    (None, 2)            514         dense_18[0][0]                   \n",
            "__________________________________________________________________________________________________\n",
            "entry_a (Dense)                 (None, 2)            514         dense_19[0][0]                   \n",
            "__________________________________________________________________________________________________\n",
            "staff_a (Dense)                 (None, 4)            1028        dense_20[0][0]                   \n",
            "__________________________________________________________________________________________________\n",
            "formation_n (Dense)             (None, 2)            514         dense_21[0][0]                   \n",
            "__________________________________________________________________________________________________\n",
            "staff_d (Dense)                 (None, 3)            771         dense_22[0][0]                   \n",
            "__________________________________________________________________________________________________\n",
            "exit_d (Dense)                  (None, 4)            1028        dense_23[0][0]                   \n",
            "__________________________________________________________________________________________________\n",
            "word (Dense)                    (None, 2)            514         dense_24[0][0]                   \n",
            "__________________________________________________________________________________________________\n",
            "constancy (Dense)               (None, 2)            514         dense_25[0][0]                   \n",
            "==================================================================================================\n",
            "Total params: 3,552,680\n",
            "Trainable params: 1,980,200\n",
            "Non-trainable params: 1,572,480\n",
            "__________________________________________________________________________________________________\n",
            "['loss', 'pen_pressure_loss', 'letter_space_loss', 'size_loss', 'dimension_loss', 'lowercase_loss', 'continuous_loss', 'slantness_loss', 'tilt_loss', 'entry_a_loss', 'staff_a_loss', 'formation_n_loss', 'staff_d_loss', 'exit_d_loss', 'word_loss', 'constancy_loss', 'pen_pressure_acc', 'letter_space_acc', 'size_acc', 'dimension_acc', 'lowercase_acc', 'continuous_acc', 'slantness_acc', 'tilt_acc', 'constancy_acc']\n"
          ],
          "name": "stdout"
        }
      ]
    },
    {
      "metadata": {
        "id": "KszMKxEFN-R4",
        "colab_type": "code",
        "outputId": "2d20a0ae-8956-4848-f41e-d3fe42f6f22d",
        "colab": {
          "base_uri": "https://localhost:8080/",
          "height": 3557
        }
      },
      "cell_type": "code",
      "source": [
        "from keras.callbacks import ModelCheckpoint, EarlyStopping\n",
        "es = EarlyStopping(patience=100, monitor='loss', min_delta=0.0005, mode='auto')\n",
        "classify_train = model.fit(train_X, train_labels,callbacks= [es], batch_size=64,epochs=100,verbose=1)"
      ],
      "execution_count": 0,
      "outputs": [
        {
          "output_type": "stream",
          "text": [
            "Epoch 1/100\n",
            "10853/10853 [==============================] - 9s 808us/step - loss: 12.0366 - pen_pressure_loss: 0.7031 - letter_space_loss: 1.0676 - size_loss: 1.0596 - dimension_loss: 1.0493 - lowercase_loss: 0.1104 - continuous_loss: 0.6625 - slantness_loss: 1.1709 - tilt_loss: 0.5124 - entry_a_loss: 0.2617 - staff_a_loss: 1.1620 - formation_n_loss: 0.5662 - staff_d_loss: 0.9832 - exit_d_loss: 1.3214 - word_loss: 0.7159 - constancy_loss: 0.6904 - pen_pressure_acc: 0.5543 - letter_space_acc: 0.4826 - size_acc: 0.5049 - dimension_acc: 0.5083 - lowercase_acc: 0.9778 - continuous_acc: 0.6446 - slantness_acc: 0.5106 - tilt_acc: 0.8072 - constancy_acc: 0.5858\n",
            "Epoch 2/100\n",
            "10853/10853 [==============================] - 7s 628us/step - loss: 11.4101 - pen_pressure_loss: 0.6758 - letter_space_loss: 1.0169 - size_loss: 1.0111 - dimension_loss: 0.9977 - lowercase_loss: 0.0767 - continuous_loss: 0.6358 - slantness_loss: 1.1179 - tilt_loss: 0.4869 - entry_a_loss: 0.2195 - staff_a_loss: 1.0991 - formation_n_loss: 0.5322 - staff_d_loss: 0.9351 - exit_d_loss: 1.2624 - word_loss: 0.6834 - constancy_loss: 0.6595 - pen_pressure_acc: 0.5804 - letter_space_acc: 0.5157 - size_acc: 0.5274 - dimension_acc: 0.5279 - lowercase_acc: 0.9851 - continuous_acc: 0.6644 - slantness_acc: 0.5247 - tilt_acc: 0.8085 - constancy_acc: 0.6227\n",
            "Epoch 3/100\n",
            "10853/10853 [==============================] - 7s 623us/step - loss: 11.2067 - pen_pressure_loss: 0.6653 - letter_space_loss: 1.0011 - size_loss: 0.9922 - dimension_loss: 0.9801 - lowercase_loss: 0.0739 - continuous_loss: 0.6258 - slantness_loss: 1.0957 - tilt_loss: 0.4775 - entry_a_loss: 0.2140 - staff_a_loss: 1.0785 - formation_n_loss: 0.5218 - staff_d_loss: 0.9185 - exit_d_loss: 1.2427 - word_loss: 0.6721 - constancy_loss: 0.6473 - pen_pressure_acc: 0.5941 - letter_space_acc: 0.5223 - size_acc: 0.5332 - dimension_acc: 0.5282 - lowercase_acc: 0.9851 - continuous_acc: 0.6688 - slantness_acc: 0.5335 - tilt_acc: 0.8087 - constancy_acc: 0.6273\n",
            "Epoch 4/100\n",
            "10853/10853 [==============================] - 7s 627us/step - loss: 11.0074 - pen_pressure_loss: 0.6539 - letter_space_loss: 0.9825 - size_loss: 0.9741 - dimension_loss: 0.9634 - lowercase_loss: 0.0713 - continuous_loss: 0.6136 - slantness_loss: 1.0736 - tilt_loss: 0.4682 - entry_a_loss: 0.2084 - staff_a_loss: 1.0588 - formation_n_loss: 0.5119 - staff_d_loss: 0.9014 - exit_d_loss: 1.2235 - word_loss: 0.6652 - constancy_loss: 0.6374 - pen_pressure_acc: 0.6110 - letter_space_acc: 0.5246 - size_acc: 0.5387 - dimension_acc: 0.5392 - lowercase_acc: 0.9851 - continuous_acc: 0.6712 - slantness_acc: 0.5367 - tilt_acc: 0.8086 - constancy_acc: 0.6351\n",
            "Epoch 5/100\n",
            "10853/10853 [==============================] - 7s 622us/step - loss: 10.7901 - pen_pressure_loss: 0.6397 - letter_space_loss: 0.9616 - size_loss: 0.9561 - dimension_loss: 0.9459 - lowercase_loss: 0.0689 - continuous_loss: 0.6034 - slantness_loss: 1.0563 - tilt_loss: 0.4577 - entry_a_loss: 0.2020 - staff_a_loss: 1.0360 - formation_n_loss: 0.5008 - staff_d_loss: 0.8841 - exit_d_loss: 1.2007 - word_loss: 0.6538 - constancy_loss: 0.6232 - pen_pressure_acc: 0.6340 - letter_space_acc: 0.5387 - size_acc: 0.5474 - dimension_acc: 0.5477 - lowercase_acc: 0.9851 - continuous_acc: 0.6755 - slantness_acc: 0.5465 - tilt_acc: 0.8091 - constancy_acc: 0.6544\n",
            "Epoch 6/100\n",
            "10853/10853 [==============================] - 7s 621us/step - loss: 10.5642 - pen_pressure_loss: 0.6287 - letter_space_loss: 0.9444 - size_loss: 0.9371 - dimension_loss: 0.9284 - lowercase_loss: 0.0661 - continuous_loss: 0.5906 - slantness_loss: 1.0345 - tilt_loss: 0.4434 - entry_a_loss: 0.1971 - staff_a_loss: 1.0139 - formation_n_loss: 0.4906 - staff_d_loss: 0.8677 - exit_d_loss: 1.1761 - word_loss: 0.6371 - constancy_loss: 0.6084 - pen_pressure_acc: 0.6409 - letter_space_acc: 0.5490 - size_acc: 0.5612 - dimension_acc: 0.5633 - lowercase_acc: 0.9851 - continuous_acc: 0.6902 - slantness_acc: 0.5557 - tilt_acc: 0.8109 - constancy_acc: 0.6667\n",
            "Epoch 7/100\n",
            "10853/10853 [==============================] - 7s 625us/step - loss: 10.3149 - pen_pressure_loss: 0.6178 - letter_space_loss: 0.9193 - size_loss: 0.9158 - dimension_loss: 0.9028 - lowercase_loss: 0.0638 - continuous_loss: 0.5767 - slantness_loss: 1.0104 - tilt_loss: 0.4333 - entry_a_loss: 0.1907 - staff_a_loss: 0.9920 - formation_n_loss: 0.4772 - staff_d_loss: 0.8473 - exit_d_loss: 1.1488 - word_loss: 0.6274 - constancy_loss: 0.5916 - pen_pressure_acc: 0.6563 - letter_space_acc: 0.5685 - size_acc: 0.5733 - dimension_acc: 0.5812 - lowercase_acc: 0.9851 - continuous_acc: 0.7003 - slantness_acc: 0.5690 - tilt_acc: 0.8151 - constancy_acc: 0.6805\n",
            "Epoch 8/100\n",
            "10853/10853 [==============================] - 7s 621us/step - loss: 10.0304 - pen_pressure_loss: 0.5961 - letter_space_loss: 0.8953 - size_loss: 0.8912 - dimension_loss: 0.8809 - lowercase_loss: 0.0614 - continuous_loss: 0.5613 - slantness_loss: 0.9841 - tilt_loss: 0.4186 - entry_a_loss: 0.1829 - staff_a_loss: 0.9675 - formation_n_loss: 0.4632 - staff_d_loss: 0.8228 - exit_d_loss: 1.1214 - word_loss: 0.6068 - constancy_loss: 0.5769 - pen_pressure_acc: 0.6809 - letter_space_acc: 0.5879 - size_acc: 0.5908 - dimension_acc: 0.5957 - lowercase_acc: 0.9851 - continuous_acc: 0.7109 - slantness_acc: 0.5812 - tilt_acc: 0.8183 - constancy_acc: 0.6974\n",
            "Epoch 9/100\n",
            "10853/10853 [==============================] - 7s 631us/step - loss: 9.7330 - pen_pressure_loss: 0.5808 - letter_space_loss: 0.8697 - size_loss: 0.8642 - dimension_loss: 0.8521 - lowercase_loss: 0.0587 - continuous_loss: 0.5462 - slantness_loss: 0.9545 - tilt_loss: 0.4017 - entry_a_loss: 0.1752 - staff_a_loss: 0.9403 - formation_n_loss: 0.4457 - staff_d_loss: 0.8015 - exit_d_loss: 1.0914 - word_loss: 0.5911 - constancy_loss: 0.5602 - pen_pressure_acc: 0.6931 - letter_space_acc: 0.6020 - size_acc: 0.6066 - dimension_acc: 0.6128 - lowercase_acc: 0.9851 - continuous_acc: 0.7210 - slantness_acc: 0.5982 - tilt_acc: 0.8258 - constancy_acc: 0.7139\n",
            "Epoch 10/100\n",
            "10853/10853 [==============================] - 7s 625us/step - loss: 9.4160 - pen_pressure_loss: 0.5586 - letter_space_loss: 0.8425 - size_loss: 0.8385 - dimension_loss: 0.8249 - lowercase_loss: 0.0551 - continuous_loss: 0.5251 - slantness_loss: 0.9269 - tilt_loss: 0.3886 - entry_a_loss: 0.1683 - staff_a_loss: 0.9064 - formation_n_loss: 0.4335 - staff_d_loss: 0.7746 - exit_d_loss: 1.0643 - word_loss: 0.5702 - constancy_loss: 0.5384 - pen_pressure_acc: 0.7172 - letter_space_acc: 0.6238 - size_acc: 0.6233 - dimension_acc: 0.6321 - lowercase_acc: 0.9851 - continuous_acc: 0.7369 - slantness_acc: 0.6095 - tilt_acc: 0.8289 - constancy_acc: 0.7262\n",
            "Epoch 11/100\n",
            "10853/10853 [==============================] - 7s 622us/step - loss: 9.0721 - pen_pressure_loss: 0.5419 - letter_space_loss: 0.8154 - size_loss: 0.8091 - dimension_loss: 0.7913 - lowercase_loss: 0.0531 - continuous_loss: 0.5054 - slantness_loss: 0.8978 - tilt_loss: 0.3731 - entry_a_loss: 0.1589 - staff_a_loss: 0.8759 - formation_n_loss: 0.4146 - staff_d_loss: 0.7554 - exit_d_loss: 1.0223 - word_loss: 0.5459 - constancy_loss: 0.5119 - pen_pressure_acc: 0.7261 - letter_space_acc: 0.6389 - size_acc: 0.6413 - dimension_acc: 0.6527 - lowercase_acc: 0.9852 - continuous_acc: 0.7560 - slantness_acc: 0.6282 - tilt_acc: 0.8369 - constancy_acc: 0.7509\n",
            "Epoch 12/100\n",
            "10853/10853 [==============================] - 7s 623us/step - loss: 8.7095 - pen_pressure_loss: 0.5155 - letter_space_loss: 0.7816 - size_loss: 0.7726 - dimension_loss: 0.7639 - lowercase_loss: 0.0493 - continuous_loss: 0.4884 - slantness_loss: 0.8619 - tilt_loss: 0.3535 - entry_a_loss: 0.1504 - staff_a_loss: 0.8465 - formation_n_loss: 0.3948 - staff_d_loss: 0.7221 - exit_d_loss: 0.9898 - word_loss: 0.5289 - constancy_loss: 0.4902 - pen_pressure_acc: 0.7488 - letter_space_acc: 0.6597 - size_acc: 0.6667 - dimension_acc: 0.6644 - lowercase_acc: 0.9853 - continuous_acc: 0.7671 - slantness_acc: 0.6464 - tilt_acc: 0.8467 - constancy_acc: 0.7649\n",
            "Epoch 13/100\n",
            "10853/10853 [==============================] - 7s 623us/step - loss: 8.3624 - pen_pressure_loss: 0.4994 - letter_space_loss: 0.7537 - size_loss: 0.7454 - dimension_loss: 0.7315 - lowercase_loss: 0.0465 - continuous_loss: 0.4656 - slantness_loss: 0.8302 - tilt_loss: 0.3421 - entry_a_loss: 0.1394 - staff_a_loss: 0.8137 - formation_n_loss: 0.3757 - staff_d_loss: 0.6916 - exit_d_loss: 0.9589 - word_loss: 0.4997 - constancy_loss: 0.4690 - pen_pressure_acc: 0.7638 - letter_space_acc: 0.6771 - size_acc: 0.6770 - dimension_acc: 0.6872 - lowercase_acc: 0.9853 - continuous_acc: 0.7836 - slantness_acc: 0.6613 - tilt_acc: 0.8532 - constancy_acc: 0.7792\n",
            "Epoch 14/100\n",
            "10853/10853 [==============================] - 7s 633us/step - loss: 7.9583 - pen_pressure_loss: 0.4717 - letter_space_loss: 0.7087 - size_loss: 0.7079 - dimension_loss: 0.6971 - lowercase_loss: 0.0428 - continuous_loss: 0.4522 - slantness_loss: 0.7978 - tilt_loss: 0.3181 - entry_a_loss: 0.1313 - staff_a_loss: 0.7726 - formation_n_loss: 0.3572 - staff_d_loss: 0.6655 - exit_d_loss: 0.9102 - word_loss: 0.4792 - constancy_loss: 0.4461 - pen_pressure_acc: 0.7787 - letter_space_acc: 0.6976 - size_acc: 0.7008 - dimension_acc: 0.7066 - lowercase_acc: 0.9858 - continuous_acc: 0.7840 - slantness_acc: 0.6758 - tilt_acc: 0.8669 - constancy_acc: 0.7973\n",
            "Epoch 15/100\n",
            "10853/10853 [==============================] - 7s 625us/step - loss: 7.5547 - pen_pressure_loss: 0.4508 - letter_space_loss: 0.6810 - size_loss: 0.6741 - dimension_loss: 0.6647 - lowercase_loss: 0.0396 - continuous_loss: 0.4305 - slantness_loss: 0.7486 - tilt_loss: 0.2970 - entry_a_loss: 0.1187 - staff_a_loss: 0.7395 - formation_n_loss: 0.3388 - staff_d_loss: 0.6217 - exit_d_loss: 0.8698 - word_loss: 0.4531 - constancy_loss: 0.4267 - pen_pressure_acc: 0.7941 - letter_space_acc: 0.7187 - size_acc: 0.7200 - dimension_acc: 0.7249 - lowercase_acc: 0.9865 - continuous_acc: 0.7994 - slantness_acc: 0.7036 - tilt_acc: 0.8740 - constancy_acc: 0.8048\n",
            "Epoch 16/100\n",
            "10853/10853 [==============================] - 7s 623us/step - loss: 7.1616 - pen_pressure_loss: 0.4252 - letter_space_loss: 0.6564 - size_loss: 0.6372 - dimension_loss: 0.6292 - lowercase_loss: 0.0365 - continuous_loss: 0.4042 - slantness_loss: 0.7148 - tilt_loss: 0.2821 - entry_a_loss: 0.1110 - staff_a_loss: 0.6998 - formation_n_loss: 0.3096 - staff_d_loss: 0.6014 - exit_d_loss: 0.8264 - word_loss: 0.4277 - constancy_loss: 0.4000 - pen_pressure_acc: 0.8098 - letter_space_acc: 0.7287 - size_acc: 0.7414 - dimension_acc: 0.7417 - lowercase_acc: 0.9872 - continuous_acc: 0.8157 - slantness_acc: 0.7201 - tilt_acc: 0.8817 - constancy_acc: 0.8219\n",
            "Epoch 17/100\n",
            "10853/10853 [==============================] - 7s 623us/step - loss: 6.7307 - pen_pressure_loss: 0.4061 - letter_space_loss: 0.6111 - size_loss: 0.6036 - dimension_loss: 0.5837 - lowercase_loss: 0.0334 - continuous_loss: 0.3799 - slantness_loss: 0.6799 - tilt_loss: 0.2547 - entry_a_loss: 0.1013 - staff_a_loss: 0.6616 - formation_n_loss: 0.2921 - staff_d_loss: 0.5607 - exit_d_loss: 0.7832 - word_loss: 0.4075 - constancy_loss: 0.3719 - pen_pressure_acc: 0.8221 - letter_space_acc: 0.7503 - size_acc: 0.7586 - dimension_acc: 0.7684 - lowercase_acc: 0.9876 - continuous_acc: 0.8369 - slantness_acc: 0.7316 - tilt_acc: 0.8984 - constancy_acc: 0.8385\n",
            "Epoch 18/100\n",
            "10853/10853 [==============================] - 7s 625us/step - loss: 6.3646 - pen_pressure_loss: 0.3680 - letter_space_loss: 0.5859 - size_loss: 0.5721 - dimension_loss: 0.5577 - lowercase_loss: 0.0305 - continuous_loss: 0.3632 - slantness_loss: 0.6349 - tilt_loss: 0.2596 - entry_a_loss: 0.0909 - staff_a_loss: 0.6221 - formation_n_loss: 0.2720 - staff_d_loss: 0.5305 - exit_d_loss: 0.7412 - word_loss: 0.3793 - constancy_loss: 0.3567 - pen_pressure_acc: 0.8442 - letter_space_acc: 0.7628 - size_acc: 0.7767 - dimension_acc: 0.7849 - lowercase_acc: 0.9880 - continuous_acc: 0.8421 - slantness_acc: 0.7603 - tilt_acc: 0.8951 - constancy_acc: 0.8455\n",
            "Epoch 19/100\n",
            "10853/10853 [==============================] - 7s 633us/step - loss: 5.9661 - pen_pressure_loss: 0.3491 - letter_space_loss: 0.5419 - size_loss: 0.5516 - dimension_loss: 0.5214 - lowercase_loss: 0.0280 - continuous_loss: 0.3322 - slantness_loss: 0.5988 - tilt_loss: 0.2183 - entry_a_loss: 0.0844 - staff_a_loss: 0.5910 - formation_n_loss: 0.2527 - staff_d_loss: 0.4942 - exit_d_loss: 0.7101 - word_loss: 0.3528 - constancy_loss: 0.3396 - pen_pressure_acc: 0.8559 - letter_space_acc: 0.7866 - size_acc: 0.7845 - dimension_acc: 0.8001 - lowercase_acc: 0.9895 - continuous_acc: 0.8623 - slantness_acc: 0.7789 - tilt_acc: 0.9146 - constancy_acc: 0.8587\n",
            "Epoch 20/100\n",
            "10853/10853 [==============================] - 7s 635us/step - loss: 5.5441 - pen_pressure_loss: 0.3454 - letter_space_loss: 0.4981 - size_loss: 0.5039 - dimension_loss: 0.4747 - lowercase_loss: 0.0251 - continuous_loss: 0.3088 - slantness_loss: 0.5720 - tilt_loss: 0.1988 - entry_a_loss: 0.0765 - staff_a_loss: 0.5538 - formation_n_loss: 0.2368 - staff_d_loss: 0.4517 - exit_d_loss: 0.6538 - word_loss: 0.3395 - constancy_loss: 0.3051 - pen_pressure_acc: 0.8535 - letter_space_acc: 0.8117 - size_acc: 0.8035 - dimension_acc: 0.8241 - lowercase_acc: 0.9905 - continuous_acc: 0.8759 - slantness_acc: 0.7870 - tilt_acc: 0.9262 - constancy_acc: 0.8768\n",
            "Epoch 21/100\n",
            "10853/10853 [==============================] - 7s 624us/step - loss: 5.1622 - pen_pressure_loss: 0.3087 - letter_space_loss: 0.4702 - size_loss: 0.4766 - dimension_loss: 0.4505 - lowercase_loss: 0.0222 - continuous_loss: 0.2841 - slantness_loss: 0.5321 - tilt_loss: 0.1757 - entry_a_loss: 0.0676 - staff_a_loss: 0.5123 - formation_n_loss: 0.2156 - staff_d_loss: 0.4266 - exit_d_loss: 0.6154 - word_loss: 0.3157 - constancy_loss: 0.2890 - pen_pressure_acc: 0.8778 - letter_space_acc: 0.8270 - size_acc: 0.8195 - dimension_acc: 0.8373 - lowercase_acc: 0.9916 - continuous_acc: 0.8876 - slantness_acc: 0.8043 - tilt_acc: 0.9394 - constancy_acc: 0.8866\n",
            "Epoch 22/100\n",
            "10853/10853 [==============================] - 7s 626us/step - loss: 4.7856 - pen_pressure_loss: 0.2760 - letter_space_loss: 0.4474 - size_loss: 0.4334 - dimension_loss: 0.4123 - lowercase_loss: 0.0197 - continuous_loss: 0.2604 - slantness_loss: 0.4999 - tilt_loss: 0.1638 - entry_a_loss: 0.0612 - staff_a_loss: 0.4695 - formation_n_loss: 0.1960 - staff_d_loss: 0.4014 - exit_d_loss: 0.5888 - word_loss: 0.2833 - constancy_loss: 0.2726 - pen_pressure_acc: 0.9007 - letter_space_acc: 0.8318 - size_acc: 0.8434 - dimension_acc: 0.8552 - lowercase_acc: 0.9932 - continuous_acc: 0.9012 - slantness_acc: 0.8150 - tilt_acc: 0.9438 - constancy_acc: 0.8945\n",
            "Epoch 23/100\n",
            "10853/10853 [==============================] - 7s 627us/step - loss: 4.4277 - pen_pressure_loss: 0.2653 - letter_space_loss: 0.4053 - size_loss: 0.4022 - dimension_loss: 0.3830 - lowercase_loss: 0.0178 - continuous_loss: 0.2452 - slantness_loss: 0.4630 - tilt_loss: 0.1637 - entry_a_loss: 0.0520 - staff_a_loss: 0.4406 - formation_n_loss: 0.1772 - staff_d_loss: 0.3694 - exit_d_loss: 0.5350 - word_loss: 0.2682 - constancy_loss: 0.2398 - pen_pressure_acc: 0.9005 - letter_space_acc: 0.8570 - size_acc: 0.8584 - dimension_acc: 0.8657 - lowercase_acc: 0.9941 - continuous_acc: 0.9045 - slantness_acc: 0.8361 - tilt_acc: 0.9411 - constancy_acc: 0.9123\n",
            "Epoch 24/100\n",
            "10853/10853 [==============================] - 7s 632us/step - loss: 4.0008 - pen_pressure_loss: 0.2278 - letter_space_loss: 0.3710 - size_loss: 0.3606 - dimension_loss: 0.3506 - lowercase_loss: 0.0165 - continuous_loss: 0.2251 - slantness_loss: 0.4230 - tilt_loss: 0.1498 - entry_a_loss: 0.0456 - staff_a_loss: 0.4084 - formation_n_loss: 0.1516 - staff_d_loss: 0.3389 - exit_d_loss: 0.4982 - word_loss: 0.2271 - constancy_loss: 0.2066 - pen_pressure_acc: 0.9203 - letter_space_acc: 0.8699 - size_acc: 0.8831 - dimension_acc: 0.8861 - lowercase_acc: 0.9949 - continuous_acc: 0.9177 - slantness_acc: 0.8587 - tilt_acc: 0.9487 - constancy_acc: 0.9304\n",
            "Epoch 25/100\n",
            "10853/10853 [==============================] - 7s 624us/step - loss: 3.6985 - pen_pressure_loss: 0.2229 - letter_space_loss: 0.3348 - size_loss: 0.3405 - dimension_loss: 0.3257 - lowercase_loss: 0.0149 - continuous_loss: 0.2171 - slantness_loss: 0.3866 - tilt_loss: 0.1192 - entry_a_loss: 0.0437 - staff_a_loss: 0.3668 - formation_n_loss: 0.1534 - staff_d_loss: 0.3068 - exit_d_loss: 0.4603 - word_loss: 0.2065 - constancy_loss: 0.1992 - pen_pressure_acc: 0.9217 - letter_space_acc: 0.8877 - size_acc: 0.8853 - dimension_acc: 0.8906 - lowercase_acc: 0.9952 - continuous_acc: 0.9188 - slantness_acc: 0.8724 - tilt_acc: 0.9654 - constancy_acc: 0.9344\n",
            "Epoch 26/100\n",
            "10853/10853 [==============================] - 7s 630us/step - loss: 3.3685 - pen_pressure_loss: 0.1959 - letter_space_loss: 0.3049 - size_loss: 0.3055 - dimension_loss: 0.3033 - lowercase_loss: 0.0131 - continuous_loss: 0.1843 - slantness_loss: 0.3567 - tilt_loss: 0.1027 - entry_a_loss: 0.0349 - staff_a_loss: 0.3349 - formation_n_loss: 0.1498 - staff_d_loss: 0.2746 - exit_d_loss: 0.4206 - word_loss: 0.1906 - constancy_loss: 0.1969 - pen_pressure_acc: 0.9373 - letter_space_acc: 0.9056 - size_acc: 0.9052 - dimension_acc: 0.8999 - lowercase_acc: 0.9963 - continuous_acc: 0.9370 - slantness_acc: 0.8869 - tilt_acc: 0.9724 - constancy_acc: 0.9311\n",
            "Epoch 27/100\n",
            "10853/10853 [==============================] - 7s 625us/step - loss: 3.0687 - pen_pressure_loss: 0.1716 - letter_space_loss: 0.2728 - size_loss: 0.2785 - dimension_loss: 0.2681 - lowercase_loss: 0.0117 - continuous_loss: 0.1975 - slantness_loss: 0.3255 - tilt_loss: 0.1079 - entry_a_loss: 0.0319 - staff_a_loss: 0.3121 - formation_n_loss: 0.1122 - staff_d_loss: 0.2464 - exit_d_loss: 0.3819 - word_loss: 0.1883 - constancy_loss: 0.1625 - pen_pressure_acc: 0.9478 - letter_space_acc: 0.9165 - size_acc: 0.9128 - dimension_acc: 0.9202 - lowercase_acc: 0.9969 - continuous_acc: 0.9292 - slantness_acc: 0.8996 - tilt_acc: 0.9671 - constancy_acc: 0.9510\n",
            "Epoch 28/100\n",
            "10853/10853 [==============================] - 7s 626us/step - loss: 2.7762 - pen_pressure_loss: 0.1515 - letter_space_loss: 0.2441 - size_loss: 0.2507 - dimension_loss: 0.2496 - lowercase_loss: 0.0104 - continuous_loss: 0.1667 - slantness_loss: 0.3016 - tilt_loss: 0.0878 - entry_a_loss: 0.0271 - staff_a_loss: 0.2815 - formation_n_loss: 0.1025 - staff_d_loss: 0.2252 - exit_d_loss: 0.3502 - word_loss: 0.1730 - constancy_loss: 0.1543 - pen_pressure_acc: 0.9577 - letter_space_acc: 0.9306 - size_acc: 0.9288 - dimension_acc: 0.9292 - lowercase_acc: 0.9980 - continuous_acc: 0.9440 - slantness_acc: 0.9103 - tilt_acc: 0.9779 - constancy_acc: 0.9507\n",
            "Epoch 29/100\n",
            "10853/10853 [==============================] - 7s 625us/step - loss: 2.4896 - pen_pressure_loss: 0.1423 - letter_space_loss: 0.2244 - size_loss: 0.2418 - dimension_loss: 0.2148 - lowercase_loss: 0.0094 - continuous_loss: 0.1438 - slantness_loss: 0.2604 - tilt_loss: 0.0813 - entry_a_loss: 0.0240 - staff_a_loss: 0.2625 - formation_n_loss: 0.0965 - staff_d_loss: 0.2049 - exit_d_loss: 0.3160 - word_loss: 0.1409 - constancy_loss: 0.1267 - pen_pressure_acc: 0.9588 - letter_space_acc: 0.9392 - size_acc: 0.9282 - dimension_acc: 0.9448 - lowercase_acc: 0.9982 - continuous_acc: 0.9573 - slantness_acc: 0.9290 - tilt_acc: 0.9805 - constancy_acc: 0.9649\n",
            "Epoch 30/100\n",
            "10853/10853 [==============================] - 7s 627us/step - loss: 2.2455 - pen_pressure_loss: 0.1504 - letter_space_loss: 0.1938 - size_loss: 0.2078 - dimension_loss: 0.1944 - lowercase_loss: 0.0085 - continuous_loss: 0.1167 - slantness_loss: 0.2322 - tilt_loss: 0.0716 - entry_a_loss: 0.0216 - staff_a_loss: 0.2471 - formation_n_loss: 0.0800 - staff_d_loss: 0.1765 - exit_d_loss: 0.2825 - word_loss: 0.1428 - constancy_loss: 0.1197 - pen_pressure_acc: 0.9544 - letter_space_acc: 0.9513 - size_acc: 0.9455 - dimension_acc: 0.9508 - lowercase_acc: 0.9988 - continuous_acc: 0.9689 - slantness_acc: 0.9396 - tilt_acc: 0.9838 - constancy_acc: 0.9693\n",
            "Epoch 31/100\n",
            "10853/10853 [==============================] - 7s 632us/step - loss: 2.0027 - pen_pressure_loss: 0.1133 - letter_space_loss: 0.1676 - size_loss: 0.1874 - dimension_loss: 0.1675 - lowercase_loss: 0.0078 - continuous_loss: 0.1129 - slantness_loss: 0.2077 - tilt_loss: 0.0584 - entry_a_loss: 0.0200 - staff_a_loss: 0.2232 - formation_n_loss: 0.0678 - staff_d_loss: 0.1697 - exit_d_loss: 0.2597 - word_loss: 0.1346 - constancy_loss: 0.1051 - pen_pressure_acc: 0.9736 - letter_space_acc: 0.9627 - size_acc: 0.9545 - dimension_acc: 0.9660 - lowercase_acc: 0.9988 - continuous_acc: 0.9675 - slantness_acc: 0.9534 - tilt_acc: 0.9900 - constancy_acc: 0.9759\n",
            "Epoch 32/100\n",
            "10853/10853 [==============================] - 7s 627us/step - loss: 1.7488 - pen_pressure_loss: 0.1042 - letter_space_loss: 0.1556 - size_loss: 0.1703 - dimension_loss: 0.1431 - lowercase_loss: 0.0071 - continuous_loss: 0.0883 - slantness_loss: 0.1825 - tilt_loss: 0.0462 - entry_a_loss: 0.0177 - staff_a_loss: 0.1851 - formation_n_loss: 0.0693 - staff_d_loss: 0.1438 - exit_d_loss: 0.2348 - word_loss: 0.1094 - constancy_loss: 0.0916 - pen_pressure_acc: 0.9753 - letter_space_acc: 0.9678 - size_acc: 0.9605 - dimension_acc: 0.9730 - lowercase_acc: 0.9995 - continuous_acc: 0.9830 - slantness_acc: 0.9601 - tilt_acc: 0.9943 - constancy_acc: 0.9808\n",
            "Epoch 33/100\n",
            "10853/10853 [==============================] - 7s 627us/step - loss: 1.5580 - pen_pressure_loss: 0.0923 - letter_space_loss: 0.1390 - size_loss: 0.1448 - dimension_loss: 0.1286 - lowercase_loss: 0.0065 - continuous_loss: 0.0792 - slantness_loss: 0.1696 - tilt_loss: 0.0407 - entry_a_loss: 0.0155 - staff_a_loss: 0.1702 - formation_n_loss: 0.0553 - staff_d_loss: 0.1310 - exit_d_loss: 0.2074 - word_loss: 0.0948 - constancy_loss: 0.0832 - pen_pressure_acc: 0.9811 - letter_space_acc: 0.9744 - size_acc: 0.9709 - dimension_acc: 0.9773 - lowercase_acc: 0.9996 - continuous_acc: 0.9848 - slantness_acc: 0.9651 - tilt_acc: 0.9947 - constancy_acc: 0.9847\n",
            "Epoch 34/100\n",
            "10853/10853 [==============================] - 7s 627us/step - loss: 1.3443 - pen_pressure_loss: 0.0733 - letter_space_loss: 0.1248 - size_loss: 0.1226 - dimension_loss: 0.1148 - lowercase_loss: 0.0060 - continuous_loss: 0.0624 - slantness_loss: 0.1508 - tilt_loss: 0.0370 - entry_a_loss: 0.0145 - staff_a_loss: 0.1416 - formation_n_loss: 0.0449 - staff_d_loss: 0.1145 - exit_d_loss: 0.1940 - word_loss: 0.0752 - constancy_loss: 0.0680 - pen_pressure_acc: 0.9884 - letter_space_acc: 0.9778 - size_acc: 0.9803 - dimension_acc: 0.9806 - lowercase_acc: 0.9994 - continuous_acc: 0.9920 - slantness_acc: 0.9716 - tilt_acc: 0.9971 - constancy_acc: 0.9899\n",
            "Epoch 35/100\n",
            "10853/10853 [==============================] - 7s 626us/step - loss: 1.2144 - pen_pressure_loss: 0.0702 - letter_space_loss: 0.1134 - size_loss: 0.1143 - dimension_loss: 0.0969 - lowercase_loss: 0.0057 - continuous_loss: 0.0615 - slantness_loss: 0.1334 - tilt_loss: 0.0330 - entry_a_loss: 0.0133 - staff_a_loss: 0.1286 - formation_n_loss: 0.0375 - staff_d_loss: 0.0961 - exit_d_loss: 0.1672 - word_loss: 0.0675 - constancy_loss: 0.0758 - pen_pressure_acc: 0.9881 - letter_space_acc: 0.9798 - size_acc: 0.9805 - dimension_acc: 0.9884 - lowercase_acc: 0.9997 - continuous_acc: 0.9908 - slantness_acc: 0.9766 - tilt_acc: 0.9978 - constancy_acc: 0.9856\n",
            "Epoch 36/100\n",
            "10853/10853 [==============================] - 7s 621us/step - loss: 1.0669 - pen_pressure_loss: 0.0574 - letter_space_loss: 0.0895 - size_loss: 0.1013 - dimension_loss: 0.0869 - lowercase_loss: 0.0053 - continuous_loss: 0.0525 - slantness_loss: 0.1343 - tilt_loss: 0.0296 - entry_a_loss: 0.0122 - staff_a_loss: 0.1110 - formation_n_loss: 0.0356 - staff_d_loss: 0.0819 - exit_d_loss: 0.1509 - word_loss: 0.0592 - constancy_loss: 0.0594 - pen_pressure_acc: 0.9935 - letter_space_acc: 0.9898 - size_acc: 0.9849 - dimension_acc: 0.9907 - lowercase_acc: 0.9995 - continuous_acc: 0.9945 - slantness_acc: 0.9738 - tilt_acc: 0.9982 - constancy_acc: 0.9919\n",
            "Epoch 37/100\n",
            "10853/10853 [==============================] - 7s 624us/step - loss: 0.9446 - pen_pressure_loss: 0.0495 - letter_space_loss: 0.0822 - size_loss: 0.0871 - dimension_loss: 0.0724 - lowercase_loss: 0.0050 - continuous_loss: 0.0409 - slantness_loss: 0.1307 - tilt_loss: 0.0272 - entry_a_loss: 0.0114 - staff_a_loss: 0.1001 - formation_n_loss: 0.0306 - staff_d_loss: 0.0713 - exit_d_loss: 0.1362 - word_loss: 0.0520 - constancy_loss: 0.0481 - pen_pressure_acc: 0.9950 - letter_space_acc: 0.9906 - size_acc: 0.9894 - dimension_acc: 0.9950 - lowercase_acc: 0.9996 - continuous_acc: 0.9974 - slantness_acc: 0.9754 - tilt_acc: 0.9982 - constancy_acc: 0.9950\n",
            "Epoch 38/100\n",
            "10853/10853 [==============================] - 7s 623us/step - loss: 0.8184 - pen_pressure_loss: 0.0452 - letter_space_loss: 0.0699 - size_loss: 0.0761 - dimension_loss: 0.0694 - lowercase_loss: 0.0049 - continuous_loss: 0.0423 - slantness_loss: 0.1023 - tilt_loss: 0.0231 - entry_a_loss: 0.0103 - staff_a_loss: 0.0891 - formation_n_loss: 0.0265 - staff_d_loss: 0.0625 - exit_d_loss: 0.1155 - word_loss: 0.0428 - constancy_loss: 0.0388 - pen_pressure_acc: 0.9954 - letter_space_acc: 0.9936 - size_acc: 0.9924 - dimension_acc: 0.9944 - lowercase_acc: 0.9996 - continuous_acc: 0.9961 - slantness_acc: 0.9872 - tilt_acc: 0.9987 - constancy_acc: 0.9971\n",
            "Epoch 39/100\n",
            "10853/10853 [==============================] - 7s 632us/step - loss: 0.7296 - pen_pressure_loss: 0.0382 - letter_space_loss: 0.0649 - size_loss: 0.0687 - dimension_loss: 0.0603 - lowercase_loss: 0.0043 - continuous_loss: 0.0337 - slantness_loss: 0.0830 - tilt_loss: 0.0236 - entry_a_loss: 0.0095 - staff_a_loss: 0.0768 - formation_n_loss: 0.0237 - staff_d_loss: 0.0583 - exit_d_loss: 0.1072 - word_loss: 0.0433 - constancy_loss: 0.0341 - pen_pressure_acc: 0.9976 - letter_space_acc: 0.9938 - size_acc: 0.9935 - dimension_acc: 0.9968 - lowercase_acc: 0.9997 - continuous_acc: 0.9984 - slantness_acc: 0.9923 - tilt_acc: 0.9985 - constancy_acc: 0.9982\n",
            "Epoch 40/100\n",
            "10853/10853 [==============================] - 7s 624us/step - loss: 0.6372 - pen_pressure_loss: 0.0351 - letter_space_loss: 0.0540 - size_loss: 0.0570 - dimension_loss: 0.0533 - lowercase_loss: 0.0040 - continuous_loss: 0.0309 - slantness_loss: 0.0720 - tilt_loss: 0.0214 - entry_a_loss: 0.0087 - staff_a_loss: 0.0707 - formation_n_loss: 0.0231 - staff_d_loss: 0.0535 - exit_d_loss: 0.0857 - word_loss: 0.0372 - constancy_loss: 0.0305 - pen_pressure_acc: 0.9975 - letter_space_acc: 0.9978 - size_acc: 0.9966 - dimension_acc: 0.9975 - lowercase_acc: 0.9998 - continuous_acc: 0.9986 - slantness_acc: 0.9956 - tilt_acc: 0.9986 - constancy_acc: 0.9988\n",
            "Epoch 41/100\n",
            "10853/10853 [==============================] - 7s 621us/step - loss: 0.5824 - pen_pressure_loss: 0.0333 - letter_space_loss: 0.0481 - size_loss: 0.0551 - dimension_loss: 0.0495 - lowercase_loss: 0.0038 - continuous_loss: 0.0278 - slantness_loss: 0.0623 - tilt_loss: 0.0182 - entry_a_loss: 0.0082 - staff_a_loss: 0.0672 - formation_n_loss: 0.0212 - staff_d_loss: 0.0451 - exit_d_loss: 0.0797 - word_loss: 0.0359 - constancy_loss: 0.0271 - pen_pressure_acc: 0.9983 - letter_space_acc: 0.9984 - size_acc: 0.9958 - dimension_acc: 0.9973 - lowercase_acc: 0.9998 - continuous_acc: 0.9985 - slantness_acc: 0.9967 - tilt_acc: 0.9994 - constancy_acc: 0.9984\n",
            "Epoch 42/100\n",
            "10853/10853 [==============================] - 7s 619us/step - loss: 0.5293 - pen_pressure_loss: 0.0300 - letter_space_loss: 0.0444 - size_loss: 0.0515 - dimension_loss: 0.0436 - lowercase_loss: 0.0036 - continuous_loss: 0.0267 - slantness_loss: 0.0603 - tilt_loss: 0.0171 - entry_a_loss: 0.0081 - staff_a_loss: 0.0563 - formation_n_loss: 0.0213 - staff_d_loss: 0.0402 - exit_d_loss: 0.0702 - word_loss: 0.0298 - constancy_loss: 0.0262 - pen_pressure_acc: 0.9978 - letter_space_acc: 0.9982 - size_acc: 0.9968 - dimension_acc: 0.9979 - lowercase_acc: 0.9998 - continuous_acc: 0.9983 - slantness_acc: 0.9966 - tilt_acc: 0.9987 - constancy_acc: 0.9988\n",
            "Epoch 43/100\n",
            "10853/10853 [==============================] - 7s 619us/step - loss: 0.4748 - pen_pressure_loss: 0.0282 - letter_space_loss: 0.0384 - size_loss: 0.0450 - dimension_loss: 0.0406 - lowercase_loss: 0.0034 - continuous_loss: 0.0246 - slantness_loss: 0.0513 - tilt_loss: 0.0160 - entry_a_loss: 0.0078 - staff_a_loss: 0.0514 - formation_n_loss: 0.0178 - staff_d_loss: 0.0385 - exit_d_loss: 0.0634 - word_loss: 0.0252 - constancy_loss: 0.0234 - pen_pressure_acc: 0.9983 - letter_space_acc: 0.9990 - size_acc: 0.9975 - dimension_acc: 0.9984 - lowercase_acc: 0.9999 - continuous_acc: 0.9990 - slantness_acc: 0.9982 - tilt_acc: 0.9990 - constancy_acc: 0.9992\n",
            "Epoch 44/100\n",
            "10853/10853 [==============================] - 7s 628us/step - loss: 0.4419 - pen_pressure_loss: 0.0250 - letter_space_loss: 0.0357 - size_loss: 0.0406 - dimension_loss: 0.0378 - lowercase_loss: 0.0035 - continuous_loss: 0.0216 - slantness_loss: 0.0466 - tilt_loss: 0.0145 - entry_a_loss: 0.0070 - staff_a_loss: 0.0480 - formation_n_loss: 0.0204 - staff_d_loss: 0.0352 - exit_d_loss: 0.0599 - word_loss: 0.0241 - constancy_loss: 0.0219 - pen_pressure_acc: 0.9988 - letter_space_acc: 0.9993 - size_acc: 0.9975 - dimension_acc: 0.9981 - lowercase_acc: 0.9997 - continuous_acc: 0.9992 - slantness_acc: 0.9988 - tilt_acc: 0.9994 - constancy_acc: 0.9992\n",
            "Epoch 45/100\n",
            "10853/10853 [==============================] - 7s 622us/step - loss: 0.3942 - pen_pressure_loss: 0.0236 - letter_space_loss: 0.0326 - size_loss: 0.0379 - dimension_loss: 0.0329 - lowercase_loss: 0.0030 - continuous_loss: 0.0188 - slantness_loss: 0.0416 - tilt_loss: 0.0137 - entry_a_loss: 0.0065 - staff_a_loss: 0.0423 - formation_n_loss: 0.0168 - staff_d_loss: 0.0318 - exit_d_loss: 0.0536 - word_loss: 0.0203 - constancy_loss: 0.0187 - pen_pressure_acc: 0.9988 - letter_space_acc: 0.9994 - size_acc: 0.9987 - dimension_acc: 0.9988 - lowercase_acc: 0.9999 - continuous_acc: 0.9994 - slantness_acc: 0.9991 - tilt_acc: 0.9995 - constancy_acc: 0.9997\n",
            "Epoch 46/100\n",
            "10853/10853 [==============================] - 7s 613us/step - loss: 0.3640 - pen_pressure_loss: 0.0203 - letter_space_loss: 0.0310 - size_loss: 0.0337 - dimension_loss: 0.0297 - lowercase_loss: 0.0029 - continuous_loss: 0.0177 - slantness_loss: 0.0393 - tilt_loss: 0.0128 - entry_a_loss: 0.0067 - staff_a_loss: 0.0392 - formation_n_loss: 0.0150 - staff_d_loss: 0.0287 - exit_d_loss: 0.0497 - word_loss: 0.0199 - constancy_loss: 0.0175 - pen_pressure_acc: 0.9991 - letter_space_acc: 0.9992 - size_acc: 0.9989 - dimension_acc: 0.9994 - lowercase_acc: 0.9999 - continuous_acc: 0.9994 - slantness_acc: 0.9992 - tilt_acc: 0.9996 - constancy_acc: 0.9997\n",
            "Epoch 47/100\n",
            "10853/10853 [==============================] - 7s 621us/step - loss: 0.3403 - pen_pressure_loss: 0.0203 - letter_space_loss: 0.0271 - size_loss: 0.0319 - dimension_loss: 0.0287 - lowercase_loss: 0.0028 - continuous_loss: 0.0169 - slantness_loss: 0.0369 - tilt_loss: 0.0122 - entry_a_loss: 0.0064 - staff_a_loss: 0.0365 - formation_n_loss: 0.0142 - staff_d_loss: 0.0271 - exit_d_loss: 0.0434 - word_loss: 0.0187 - constancy_loss: 0.0171 - pen_pressure_acc: 0.9990 - letter_space_acc: 0.9997 - size_acc: 0.9986 - dimension_acc: 0.9991 - lowercase_acc: 0.9999 - continuous_acc: 0.9995 - slantness_acc: 0.9994 - tilt_acc: 0.9994 - constancy_acc: 0.9996\n",
            "Epoch 48/100\n",
            "10853/10853 [==============================] - 7s 622us/step - loss: 0.3234 - pen_pressure_loss: 0.0203 - letter_space_loss: 0.0271 - size_loss: 0.0298 - dimension_loss: 0.0279 - lowercase_loss: 0.0026 - continuous_loss: 0.0171 - slantness_loss: 0.0340 - tilt_loss: 0.0124 - entry_a_loss: 0.0061 - staff_a_loss: 0.0330 - formation_n_loss: 0.0130 - staff_d_loss: 0.0262 - exit_d_loss: 0.0403 - word_loss: 0.0182 - constancy_loss: 0.0153 - pen_pressure_acc: 0.9989 - letter_space_acc: 0.9994 - size_acc: 0.9989 - dimension_acc: 0.9991 - lowercase_acc: 0.9999 - continuous_acc: 0.9994 - slantness_acc: 0.9993 - tilt_acc: 0.9996 - constancy_acc: 0.9995\n",
            "Epoch 49/100\n",
            "10853/10853 [==============================] - 7s 624us/step - loss: 0.2992 - pen_pressure_loss: 0.0178 - letter_space_loss: 0.0247 - size_loss: 0.0271 - dimension_loss: 0.0253 - lowercase_loss: 0.0025 - continuous_loss: 0.0142 - slantness_loss: 0.0328 - tilt_loss: 0.0119 - entry_a_loss: 0.0060 - staff_a_loss: 0.0307 - formation_n_loss: 0.0129 - staff_d_loss: 0.0235 - exit_d_loss: 0.0376 - word_loss: 0.0171 - constancy_loss: 0.0151 - pen_pressure_acc: 0.9992 - letter_space_acc: 0.9997 - size_acc: 0.9992 - dimension_acc: 0.9994 - lowercase_acc: 0.9999 - continuous_acc: 0.9996 - slantness_acc: 0.9994 - tilt_acc: 0.9994 - constancy_acc: 0.9996\n",
            "Epoch 50/100\n",
            "10853/10853 [==============================] - 7s 621us/step - loss: 0.2744 - pen_pressure_loss: 0.0170 - letter_space_loss: 0.0236 - size_loss: 0.0239 - dimension_loss: 0.0232 - lowercase_loss: 0.0024 - continuous_loss: 0.0137 - slantness_loss: 0.0296 - tilt_loss: 0.0103 - entry_a_loss: 0.0053 - staff_a_loss: 0.0287 - formation_n_loss: 0.0106 - staff_d_loss: 0.0230 - exit_d_loss: 0.0354 - word_loss: 0.0145 - constancy_loss: 0.0133 - pen_pressure_acc: 0.9991 - letter_space_acc: 0.9994 - size_acc: 0.9994 - dimension_acc: 0.9992 - lowercase_acc: 0.9999 - continuous_acc: 0.9994 - slantness_acc: 0.9993 - tilt_acc: 0.9996 - constancy_acc: 0.9997\n",
            "Epoch 51/100\n",
            "10853/10853 [==============================] - 7s 619us/step - loss: 0.2582 - pen_pressure_loss: 0.0150 - letter_space_loss: 0.0216 - size_loss: 0.0223 - dimension_loss: 0.0223 - lowercase_loss: 0.0023 - continuous_loss: 0.0123 - slantness_loss: 0.0282 - tilt_loss: 0.0094 - entry_a_loss: 0.0050 - staff_a_loss: 0.0268 - formation_n_loss: 0.0111 - staff_d_loss: 0.0207 - exit_d_loss: 0.0345 - word_loss: 0.0137 - constancy_loss: 0.0129 - pen_pressure_acc: 0.9995 - letter_space_acc: 0.9998 - size_acc: 0.9995 - dimension_acc: 0.9990 - lowercase_acc: 0.9999 - continuous_acc: 0.9998 - slantness_acc: 0.9995 - tilt_acc: 0.9997 - constancy_acc: 0.9997\n",
            "Epoch 52/100\n",
            "10853/10853 [==============================] - 7s 622us/step - loss: 0.2578 - pen_pressure_loss: 0.0158 - letter_space_loss: 0.0210 - size_loss: 0.0222 - dimension_loss: 0.0224 - lowercase_loss: 0.0024 - continuous_loss: 0.0130 - slantness_loss: 0.0259 - tilt_loss: 0.0106 - entry_a_loss: 0.0054 - staff_a_loss: 0.0267 - formation_n_loss: 0.0111 - staff_d_loss: 0.0204 - exit_d_loss: 0.0322 - word_loss: 0.0150 - constancy_loss: 0.0137 - pen_pressure_acc: 0.9993 - letter_space_acc: 0.9997 - size_acc: 0.9993 - dimension_acc: 0.9992 - lowercase_acc: 0.9998 - continuous_acc: 0.9997 - slantness_acc: 0.9996 - tilt_acc: 0.9993 - constancy_acc: 0.9995\n",
            "Epoch 53/100\n",
            "10853/10853 [==============================] - 7s 618us/step - loss: 0.2480 - pen_pressure_loss: 0.0168 - letter_space_loss: 0.0205 - size_loss: 0.0216 - dimension_loss: 0.0212 - lowercase_loss: 0.0021 - continuous_loss: 0.0125 - slantness_loss: 0.0257 - tilt_loss: 0.0103 - entry_a_loss: 0.0051 - staff_a_loss: 0.0249 - formation_n_loss: 0.0112 - staff_d_loss: 0.0205 - exit_d_loss: 0.0292 - word_loss: 0.0136 - constancy_loss: 0.0126 - pen_pressure_acc: 0.9988 - letter_space_acc: 0.9995 - size_acc: 0.9991 - dimension_acc: 0.9992 - lowercase_acc: 1.0000 - continuous_acc: 0.9995 - slantness_acc: 0.9994 - tilt_acc: 0.9993 - constancy_acc: 0.9994\n",
            "Epoch 54/100\n",
            "10853/10853 [==============================] - 7s 627us/step - loss: 0.2319 - pen_pressure_loss: 0.0144 - letter_space_loss: 0.0184 - size_loss: 0.0205 - dimension_loss: 0.0204 - lowercase_loss: 0.0021 - continuous_loss: 0.0120 - slantness_loss: 0.0239 - tilt_loss: 0.0091 - entry_a_loss: 0.0047 - staff_a_loss: 0.0236 - formation_n_loss: 0.0099 - staff_d_loss: 0.0189 - exit_d_loss: 0.0287 - word_loss: 0.0135 - constancy_loss: 0.0118 - pen_pressure_acc: 0.9989 - letter_space_acc: 0.9998 - size_acc: 0.9994 - dimension_acc: 0.9994 - lowercase_acc: 0.9999 - continuous_acc: 0.9995 - slantness_acc: 0.9994 - tilt_acc: 0.9996 - constancy_acc: 0.9996\n",
            "Epoch 55/100\n",
            "10853/10853 [==============================] - 7s 635us/step - loss: 0.2196 - pen_pressure_loss: 0.0142 - letter_space_loss: 0.0186 - size_loss: 0.0186 - dimension_loss: 0.0185 - lowercase_loss: 0.0020 - continuous_loss: 0.0130 - slantness_loss: 0.0219 - tilt_loss: 0.0084 - entry_a_loss: 0.0044 - staff_a_loss: 0.0226 - formation_n_loss: 0.0090 - staff_d_loss: 0.0184 - exit_d_loss: 0.0271 - word_loss: 0.0120 - constancy_loss: 0.0109 - pen_pressure_acc: 0.9990 - letter_space_acc: 0.9996 - size_acc: 0.9995 - dimension_acc: 0.9994 - lowercase_acc: 0.9999 - continuous_acc: 0.9994 - slantness_acc: 0.9996 - tilt_acc: 0.9994 - constancy_acc: 0.9996\n",
            "Epoch 56/100\n",
            "10853/10853 [==============================] - 7s 630us/step - loss: 0.2115 - pen_pressure_loss: 0.0148 - letter_space_loss: 0.0178 - size_loss: 0.0180 - dimension_loss: 0.0174 - lowercase_loss: 0.0019 - continuous_loss: 0.0119 - slantness_loss: 0.0213 - tilt_loss: 0.0082 - entry_a_loss: 0.0043 - staff_a_loss: 0.0217 - formation_n_loss: 0.0095 - staff_d_loss: 0.0167 - exit_d_loss: 0.0254 - word_loss: 0.0116 - constancy_loss: 0.0109 - pen_pressure_acc: 0.9991 - letter_space_acc: 0.9997 - size_acc: 0.9994 - dimension_acc: 0.9996 - lowercase_acc: 0.9999 - continuous_acc: 0.9994 - slantness_acc: 0.9994 - tilt_acc: 0.9998 - constancy_acc: 0.9997\n",
            "Epoch 57/100\n",
            "10853/10853 [==============================] - 7s 621us/step - loss: 0.2042 - pen_pressure_loss: 0.0140 - letter_space_loss: 0.0167 - size_loss: 0.0181 - dimension_loss: 0.0168 - lowercase_loss: 0.0019 - continuous_loss: 0.0124 - slantness_loss: 0.0205 - tilt_loss: 0.0078 - entry_a_loss: 0.0041 - staff_a_loss: 0.0204 - formation_n_loss: 0.0087 - staff_d_loss: 0.0166 - exit_d_loss: 0.0254 - word_loss: 0.0106 - constancy_loss: 0.0101 - pen_pressure_acc: 0.9991 - letter_space_acc: 0.9996 - size_acc: 0.9994 - dimension_acc: 0.9995 - lowercase_acc: 0.9999 - continuous_acc: 0.9994 - slantness_acc: 0.9996 - tilt_acc: 0.9997 - constancy_acc: 0.9996\n",
            "Epoch 58/100\n",
            "10853/10853 [==============================] - 7s 618us/step - loss: 0.1970 - pen_pressure_loss: 0.0141 - letter_space_loss: 0.0167 - size_loss: 0.0167 - dimension_loss: 0.0166 - lowercase_loss: 0.0018 - continuous_loss: 0.0119 - slantness_loss: 0.0191 - tilt_loss: 0.0080 - entry_a_loss: 0.0039 - staff_a_loss: 0.0208 - formation_n_loss: 0.0082 - staff_d_loss: 0.0161 - exit_d_loss: 0.0229 - word_loss: 0.0104 - constancy_loss: 0.0097 - pen_pressure_acc: 0.9992 - letter_space_acc: 0.9996 - size_acc: 0.9997 - dimension_acc: 0.9995 - lowercase_acc: 0.9999 - continuous_acc: 0.9994 - slantness_acc: 0.9997 - tilt_acc: 0.9994 - constancy_acc: 0.9997\n",
            "Epoch 59/100\n",
            "10853/10853 [==============================] - 7s 622us/step - loss: 0.1917 - pen_pressure_loss: 0.0134 - letter_space_loss: 0.0147 - size_loss: 0.0164 - dimension_loss: 0.0167 - lowercase_loss: 0.0019 - continuous_loss: 0.0092 - slantness_loss: 0.0198 - tilt_loss: 0.0081 - entry_a_loss: 0.0043 - staff_a_loss: 0.0192 - formation_n_loss: 0.0097 - staff_d_loss: 0.0146 - exit_d_loss: 0.0221 - word_loss: 0.0113 - constancy_loss: 0.0103 - pen_pressure_acc: 0.9990 - letter_space_acc: 0.9998 - size_acc: 0.9995 - dimension_acc: 0.9994 - lowercase_acc: 0.9998 - continuous_acc: 0.9998 - slantness_acc: 0.9994 - tilt_acc: 0.9996 - constancy_acc: 0.9995\n",
            "Epoch 60/100\n",
            "10853/10853 [==============================] - 7s 621us/step - loss: 0.1828 - pen_pressure_loss: 0.0136 - letter_space_loss: 0.0161 - size_loss: 0.0149 - dimension_loss: 0.0153 - lowercase_loss: 0.0017 - continuous_loss: 0.0104 - slantness_loss: 0.0177 - tilt_loss: 0.0075 - entry_a_loss: 0.0038 - staff_a_loss: 0.0188 - formation_n_loss: 0.0077 - staff_d_loss: 0.0149 - exit_d_loss: 0.0210 - word_loss: 0.0101 - constancy_loss: 0.0092 - pen_pressure_acc: 0.9990 - letter_space_acc: 0.9994 - size_acc: 0.9996 - dimension_acc: 0.9995 - lowercase_acc: 0.9999 - continuous_acc: 0.9996 - slantness_acc: 0.9997 - tilt_acc: 0.9997 - constancy_acc: 0.9997\n",
            "Epoch 61/100\n",
            "10853/10853 [==============================] - 7s 624us/step - loss: 0.1839 - pen_pressure_loss: 0.0127 - letter_space_loss: 0.0152 - size_loss: 0.0150 - dimension_loss: 0.0162 - lowercase_loss: 0.0019 - continuous_loss: 0.0099 - slantness_loss: 0.0173 - tilt_loss: 0.0075 - entry_a_loss: 0.0042 - staff_a_loss: 0.0181 - formation_n_loss: 0.0082 - staff_d_loss: 0.0146 - exit_d_loss: 0.0205 - word_loss: 0.0114 - constancy_loss: 0.0111 - pen_pressure_acc: 0.9993 - letter_space_acc: 0.9995 - size_acc: 0.9997 - dimension_acc: 0.9993 - lowercase_acc: 0.9998 - continuous_acc: 0.9997 - slantness_acc: 0.9996 - tilt_acc: 0.9997 - constancy_acc: 0.9994\n",
            "Epoch 62/100\n",
            "10853/10853 [==============================] - 7s 625us/step - loss: 0.1651 - pen_pressure_loss: 0.0103 - letter_space_loss: 0.0142 - size_loss: 0.0140 - dimension_loss: 0.0145 - lowercase_loss: 0.0016 - continuous_loss: 0.0086 - slantness_loss: 0.0166 - tilt_loss: 0.0068 - entry_a_loss: 0.0036 - staff_a_loss: 0.0170 - formation_n_loss: 0.0070 - staff_d_loss: 0.0138 - exit_d_loss: 0.0197 - word_loss: 0.0089 - constancy_loss: 0.0085 - pen_pressure_acc: 0.9994 - letter_space_acc: 0.9996 - size_acc: 0.9997 - dimension_acc: 0.9995 - lowercase_acc: 0.9999 - continuous_acc: 0.9997 - slantness_acc: 0.9996 - tilt_acc: 0.9997 - constancy_acc: 0.9996\n",
            "Epoch 63/100\n",
            "10853/10853 [==============================] - 7s 618us/step - loss: 0.1705 - pen_pressure_loss: 0.0112 - letter_space_loss: 0.0141 - size_loss: 0.0144 - dimension_loss: 0.0156 - lowercase_loss: 0.0016 - continuous_loss: 0.0083 - slantness_loss: 0.0165 - tilt_loss: 0.0073 - entry_a_loss: 0.0039 - staff_a_loss: 0.0165 - formation_n_loss: 0.0079 - staff_d_loss: 0.0132 - exit_d_loss: 0.0196 - word_loss: 0.0104 - constancy_loss: 0.0099 - pen_pressure_acc: 0.9993 - letter_space_acc: 0.9995 - size_acc: 0.9996 - dimension_acc: 0.9990 - lowercase_acc: 0.9998 - continuous_acc: 0.9997 - slantness_acc: 0.9995 - tilt_acc: 0.9996 - constancy_acc: 0.9994\n",
            "Epoch 64/100\n",
            "10853/10853 [==============================] - 7s 626us/step - loss: 0.1714 - pen_pressure_loss: 0.0123 - letter_space_loss: 0.0145 - size_loss: 0.0141 - dimension_loss: 0.0148 - lowercase_loss: 0.0015 - continuous_loss: 0.0094 - slantness_loss: 0.0161 - tilt_loss: 0.0071 - entry_a_loss: 0.0040 - staff_a_loss: 0.0170 - formation_n_loss: 0.0082 - staff_d_loss: 0.0142 - exit_d_loss: 0.0192 - word_loss: 0.0101 - constancy_loss: 0.0090 - pen_pressure_acc: 0.9991 - letter_space_acc: 0.9994 - size_acc: 0.9995 - dimension_acc: 0.9994 - lowercase_acc: 0.9999 - continuous_acc: 0.9996 - slantness_acc: 0.9995 - tilt_acc: 0.9996 - constancy_acc: 0.9995\n",
            "Epoch 65/100\n",
            "10853/10853 [==============================] - 7s 632us/step - loss: 0.1622 - pen_pressure_loss: 0.0110 - letter_space_loss: 0.0131 - size_loss: 0.0134 - dimension_loss: 0.0144 - lowercase_loss: 0.0015 - continuous_loss: 0.0084 - slantness_loss: 0.0154 - tilt_loss: 0.0071 - entry_a_loss: 0.0037 - staff_a_loss: 0.0161 - formation_n_loss: 0.0077 - staff_d_loss: 0.0129 - exit_d_loss: 0.0178 - word_loss: 0.0102 - constancy_loss: 0.0095 - pen_pressure_acc: 0.9994 - letter_space_acc: 0.9994 - size_acc: 0.9996 - dimension_acc: 0.9994 - lowercase_acc: 0.9998 - continuous_acc: 0.9995 - slantness_acc: 0.9997 - tilt_acc: 0.9995 - constancy_acc: 0.9995\n",
            "Epoch 66/100\n",
            "10853/10853 [==============================] - 7s 620us/step - loss: 0.1422 - pen_pressure_loss: 0.0085 - letter_space_loss: 0.0117 - size_loss: 0.0117 - dimension_loss: 0.0127 - lowercase_loss: 0.0015 - continuous_loss: 0.0071 - slantness_loss: 0.0142 - tilt_loss: 0.0061 - entry_a_loss: 0.0032 - staff_a_loss: 0.0150 - formation_n_loss: 0.0060 - staff_d_loss: 0.0117 - exit_d_loss: 0.0166 - word_loss: 0.0083 - constancy_loss: 0.0077 - pen_pressure_acc: 0.9996 - letter_space_acc: 0.9998 - size_acc: 0.9998 - dimension_acc: 0.9994 - lowercase_acc: 0.9998 - continuous_acc: 0.9997 - slantness_acc: 0.9998 - tilt_acc: 0.9996 - constancy_acc: 0.9996\n",
            "Epoch 67/100\n",
            "10853/10853 [==============================] - 7s 620us/step - loss: 0.1581 - pen_pressure_loss: 0.0113 - letter_space_loss: 0.0121 - size_loss: 0.0130 - dimension_loss: 0.0141 - lowercase_loss: 0.0015 - continuous_loss: 0.0090 - slantness_loss: 0.0150 - tilt_loss: 0.0085 - entry_a_loss: 0.0037 - staff_a_loss: 0.0152 - formation_n_loss: 0.0075 - staff_d_loss: 0.0123 - exit_d_loss: 0.0166 - word_loss: 0.0093 - constancy_loss: 0.0091 - pen_pressure_acc: 0.9991 - letter_space_acc: 0.9995 - size_acc: 0.9996 - dimension_acc: 0.9992 - lowercase_acc: 0.9999 - continuous_acc: 0.9993 - slantness_acc: 0.9994 - tilt_acc: 0.9991 - constancy_acc: 0.9995\n",
            "Epoch 68/100\n",
            "10853/10853 [==============================] - 7s 621us/step - loss: 0.1424 - pen_pressure_loss: 0.0101 - letter_space_loss: 0.0112 - size_loss: 0.0117 - dimension_loss: 0.0129 - lowercase_loss: 0.0014 - continuous_loss: 0.0078 - slantness_loss: 0.0142 - tilt_loss: 0.0065 - entry_a_loss: 0.0034 - staff_a_loss: 0.0138 - formation_n_loss: 0.0068 - staff_d_loss: 0.0111 - exit_d_loss: 0.0156 - word_loss: 0.0082 - constancy_loss: 0.0078 - pen_pressure_acc: 0.9991 - letter_space_acc: 0.9996 - size_acc: 0.9997 - dimension_acc: 0.9992 - lowercase_acc: 0.9999 - continuous_acc: 0.9995 - slantness_acc: 0.9994 - tilt_acc: 0.9994 - constancy_acc: 0.9996\n",
            "Epoch 69/100\n",
            "10853/10853 [==============================] - 7s 620us/step - loss: 0.1376 - pen_pressure_loss: 0.0093 - letter_space_loss: 0.0114 - size_loss: 0.0112 - dimension_loss: 0.0121 - lowercase_loss: 0.0014 - continuous_loss: 0.0087 - slantness_loss: 0.0130 - tilt_loss: 0.0070 - entry_a_loss: 0.0031 - staff_a_loss: 0.0138 - formation_n_loss: 0.0056 - staff_d_loss: 0.0111 - exit_d_loss: 0.0150 - word_loss: 0.0077 - constancy_loss: 0.0073 - pen_pressure_acc: 0.9993 - letter_space_acc: 0.9997 - size_acc: 0.9998 - dimension_acc: 0.9994 - lowercase_acc: 0.9999 - continuous_acc: 0.9994 - slantness_acc: 0.9997 - tilt_acc: 0.9995 - constancy_acc: 0.9996\n",
            "Epoch 70/100\n",
            "10853/10853 [==============================] - 7s 627us/step - loss: 0.1374 - pen_pressure_loss: 0.0102 - letter_space_loss: 0.0119 - size_loss: 0.0112 - dimension_loss: 0.0115 - lowercase_loss: 0.0014 - continuous_loss: 0.0078 - slantness_loss: 0.0128 - tilt_loss: 0.0063 - entry_a_loss: 0.0030 - staff_a_loss: 0.0140 - formation_n_loss: 0.0062 - staff_d_loss: 0.0110 - exit_d_loss: 0.0149 - word_loss: 0.0078 - constancy_loss: 0.0074 - pen_pressure_acc: 0.9992 - letter_space_acc: 0.9997 - size_acc: 0.9997 - dimension_acc: 0.9996 - lowercase_acc: 0.9999 - continuous_acc: 0.9997 - slantness_acc: 0.9997 - tilt_acc: 0.9997 - constancy_acc: 0.9997\n",
            "Epoch 71/100\n",
            "10853/10853 [==============================] - 7s 620us/step - loss: 0.1324 - pen_pressure_loss: 0.0094 - letter_space_loss: 0.0104 - size_loss: 0.0113 - dimension_loss: 0.0116 - lowercase_loss: 0.0013 - continuous_loss: 0.0064 - slantness_loss: 0.0132 - tilt_loss: 0.0059 - entry_a_loss: 0.0034 - staff_a_loss: 0.0127 - formation_n_loss: 0.0068 - staff_d_loss: 0.0100 - exit_d_loss: 0.0144 - word_loss: 0.0081 - constancy_loss: 0.0075 - pen_pressure_acc: 0.9994 - letter_space_acc: 0.9998 - size_acc: 0.9997 - dimension_acc: 0.9994 - lowercase_acc: 0.9999 - continuous_acc: 0.9998 - slantness_acc: 0.9995 - tilt_acc: 0.9997 - constancy_acc: 0.9995\n",
            "Epoch 72/100\n",
            "10853/10853 [==============================] - 7s 623us/step - loss: 0.1363 - pen_pressure_loss: 0.0101 - letter_space_loss: 0.0114 - size_loss: 0.0109 - dimension_loss: 0.0116 - lowercase_loss: 0.0014 - continuous_loss: 0.0079 - slantness_loss: 0.0126 - tilt_loss: 0.0059 - entry_a_loss: 0.0032 - staff_a_loss: 0.0136 - formation_n_loss: 0.0062 - staff_d_loss: 0.0113 - exit_d_loss: 0.0138 - word_loss: 0.0084 - constancy_loss: 0.0078 - pen_pressure_acc: 0.9991 - letter_space_acc: 0.9996 - size_acc: 0.9996 - dimension_acc: 0.9993 - lowercase_acc: 0.9998 - continuous_acc: 0.9995 - slantness_acc: 0.9995 - tilt_acc: 0.9996 - constancy_acc: 0.9994\n",
            "Epoch 73/100\n",
            "10853/10853 [==============================] - 7s 621us/step - loss: 0.1344 - pen_pressure_loss: 0.0107 - letter_space_loss: 0.0103 - size_loss: 0.0110 - dimension_loss: 0.0119 - lowercase_loss: 0.0013 - continuous_loss: 0.0074 - slantness_loss: 0.0127 - tilt_loss: 0.0057 - entry_a_loss: 0.0033 - staff_a_loss: 0.0130 - formation_n_loss: 0.0062 - staff_d_loss: 0.0109 - exit_d_loss: 0.0134 - word_loss: 0.0087 - constancy_loss: 0.0080 - pen_pressure_acc: 0.9991 - letter_space_acc: 0.9997 - size_acc: 0.9997 - dimension_acc: 0.9994 - lowercase_acc: 0.9998 - continuous_acc: 0.9995 - slantness_acc: 0.9995 - tilt_acc: 0.9997 - constancy_acc: 0.9995\n",
            "Epoch 74/100\n",
            "10853/10853 [==============================] - 7s 622us/step - loss: 0.1160 - pen_pressure_loss: 0.0077 - letter_space_loss: 0.0096 - size_loss: 0.0096 - dimension_loss: 0.0097 - lowercase_loss: 0.0012 - continuous_loss: 0.0068 - slantness_loss: 0.0115 - tilt_loss: 0.0051 - entry_a_loss: 0.0026 - staff_a_loss: 0.0119 - formation_n_loss: 0.0050 - staff_d_loss: 0.0099 - exit_d_loss: 0.0130 - word_loss: 0.0064 - constancy_loss: 0.0060 - pen_pressure_acc: 0.9994 - letter_space_acc: 0.9998 - size_acc: 0.9998 - dimension_acc: 0.9996 - lowercase_acc: 1.0000 - continuous_acc: 0.9995 - slantness_acc: 0.9996 - tilt_acc: 0.9998 - constancy_acc: 0.9997\n",
            "Epoch 75/100\n",
            "10853/10853 [==============================] - 7s 629us/step - loss: 0.1219 - pen_pressure_loss: 0.0089 - letter_space_loss: 0.0101 - size_loss: 0.0104 - dimension_loss: 0.0105 - lowercase_loss: 0.0011 - continuous_loss: 0.0073 - slantness_loss: 0.0119 - tilt_loss: 0.0055 - entry_a_loss: 0.0029 - staff_a_loss: 0.0117 - formation_n_loss: 0.0059 - staff_d_loss: 0.0100 - exit_d_loss: 0.0131 - word_loss: 0.0063 - constancy_loss: 0.0063 - pen_pressure_acc: 0.9992 - letter_space_acc: 0.9997 - size_acc: 0.9996 - dimension_acc: 0.9994 - lowercase_acc: 0.9999 - continuous_acc: 0.9995 - slantness_acc: 0.9995 - tilt_acc: 0.9997 - constancy_acc: 0.9996\n",
            "Epoch 76/100\n",
            "10853/10853 [==============================] - 7s 627us/step - loss: 0.1196 - pen_pressure_loss: 0.0095 - letter_space_loss: 0.0102 - size_loss: 0.0099 - dimension_loss: 0.0103 - lowercase_loss: 0.0012 - continuous_loss: 0.0075 - slantness_loss: 0.0113 - tilt_loss: 0.0050 - entry_a_loss: 0.0027 - staff_a_loss: 0.0115 - formation_n_loss: 0.0057 - staff_d_loss: 0.0104 - exit_d_loss: 0.0125 - word_loss: 0.0060 - constancy_loss: 0.0060 - pen_pressure_acc: 0.9991 - letter_space_acc: 0.9997 - size_acc: 0.9996 - dimension_acc: 0.9994 - lowercase_acc: 0.9999 - continuous_acc: 0.9994 - slantness_acc: 0.9996 - tilt_acc: 0.9997 - constancy_acc: 0.9996\n",
            "Epoch 77/100\n",
            "10853/10853 [==============================] - 7s 622us/step - loss: 0.1138 - pen_pressure_loss: 0.0075 - letter_space_loss: 0.0092 - size_loss: 0.0097 - dimension_loss: 0.0098 - lowercase_loss: 0.0012 - continuous_loss: 0.0070 - slantness_loss: 0.0106 - tilt_loss: 0.0048 - entry_a_loss: 0.0026 - staff_a_loss: 0.0112 - formation_n_loss: 0.0051 - staff_d_loss: 0.0091 - exit_d_loss: 0.0120 - word_loss: 0.0071 - constancy_loss: 0.0066 - pen_pressure_acc: 0.9995 - letter_space_acc: 0.9998 - size_acc: 0.9996 - dimension_acc: 0.9995 - lowercase_acc: 0.9998 - continuous_acc: 0.9995 - slantness_acc: 0.9997 - tilt_acc: 0.9998 - constancy_acc: 0.9995\n",
            "Epoch 78/100\n",
            "10853/10853 [==============================] - 7s 618us/step - loss: 0.1198 - pen_pressure_loss: 0.0083 - letter_space_loss: 0.0095 - size_loss: 0.0097 - dimension_loss: 0.0105 - lowercase_loss: 0.0012 - continuous_loss: 0.0065 - slantness_loss: 0.0111 - tilt_loss: 0.0057 - entry_a_loss: 0.0030 - staff_a_loss: 0.0116 - formation_n_loss: 0.0060 - staff_d_loss: 0.0102 - exit_d_loss: 0.0122 - word_loss: 0.0074 - constancy_loss: 0.0070 - pen_pressure_acc: 0.9994 - letter_space_acc: 0.9997 - size_acc: 0.9996 - dimension_acc: 0.9994 - lowercase_acc: 0.9998 - continuous_acc: 0.9996 - slantness_acc: 0.9995 - tilt_acc: 0.9996 - constancy_acc: 0.9994\n",
            "Epoch 79/100\n",
            "10853/10853 [==============================] - 7s 630us/step - loss: 0.1100 - pen_pressure_loss: 0.0076 - letter_space_loss: 0.0091 - size_loss: 0.0094 - dimension_loss: 0.0095 - lowercase_loss: 0.0011 - continuous_loss: 0.0060 - slantness_loss: 0.0105 - tilt_loss: 0.0050 - entry_a_loss: 0.0029 - staff_a_loss: 0.0109 - formation_n_loss: 0.0055 - staff_d_loss: 0.0088 - exit_d_loss: 0.0114 - word_loss: 0.0062 - constancy_loss: 0.0062 - pen_pressure_acc: 0.9994 - letter_space_acc: 0.9998 - size_acc: 0.9997 - dimension_acc: 0.9995 - lowercase_acc: 1.0000 - continuous_acc: 0.9997 - slantness_acc: 0.9995 - tilt_acc: 0.9997 - constancy_acc: 0.9995\n",
            "Epoch 80/100\n",
            "10853/10853 [==============================] - 7s 617us/step - loss: 0.1115 - pen_pressure_loss: 0.0081 - letter_space_loss: 0.0102 - size_loss: 0.0090 - dimension_loss: 0.0099 - lowercase_loss: 0.0011 - continuous_loss: 0.0068 - slantness_loss: 0.0098 - tilt_loss: 0.0054 - entry_a_loss: 0.0024 - staff_a_loss: 0.0111 - formation_n_loss: 0.0057 - staff_d_loss: 0.0090 - exit_d_loss: 0.0116 - word_loss: 0.0058 - constancy_loss: 0.0058 - pen_pressure_acc: 0.9994 - letter_space_acc: 0.9996 - size_acc: 0.9996 - dimension_acc: 0.9994 - lowercase_acc: 0.9999 - continuous_acc: 0.9994 - slantness_acc: 0.9998 - tilt_acc: 0.9997 - constancy_acc: 0.9997\n",
            "Epoch 81/100\n",
            "10853/10853 [==============================] - 7s 626us/step - loss: 0.1130 - pen_pressure_loss: 0.0083 - letter_space_loss: 0.0096 - size_loss: 0.0094 - dimension_loss: 0.0098 - lowercase_loss: 0.0011 - continuous_loss: 0.0065 - slantness_loss: 0.0105 - tilt_loss: 0.0050 - entry_a_loss: 0.0030 - staff_a_loss: 0.0107 - formation_n_loss: 0.0059 - staff_d_loss: 0.0087 - exit_d_loss: 0.0109 - word_loss: 0.0067 - constancy_loss: 0.0069 - pen_pressure_acc: 0.9994 - letter_space_acc: 0.9996 - size_acc: 0.9997 - dimension_acc: 0.9995 - lowercase_acc: 0.9998 - continuous_acc: 0.9995 - slantness_acc: 0.9996 - tilt_acc: 0.9997 - constancy_acc: 0.9995\n",
            "Epoch 82/100\n",
            "10853/10853 [==============================] - 7s 625us/step - loss: 0.1105 - pen_pressure_loss: 0.0083 - letter_space_loss: 0.0096 - size_loss: 0.0095 - dimension_loss: 0.0092 - lowercase_loss: 0.0011 - continuous_loss: 0.0064 - slantness_loss: 0.0098 - tilt_loss: 0.0048 - entry_a_loss: 0.0027 - staff_a_loss: 0.0106 - formation_n_loss: 0.0054 - staff_d_loss: 0.0088 - exit_d_loss: 0.0106 - word_loss: 0.0069 - constancy_loss: 0.0067 - pen_pressure_acc: 0.9993 - letter_space_acc: 0.9996 - size_acc: 0.9996 - dimension_acc: 0.9995 - lowercase_acc: 0.9999 - continuous_acc: 0.9997 - slantness_acc: 0.9996 - tilt_acc: 0.9997 - constancy_acc: 0.9995\n",
            "Epoch 83/100\n",
            "10853/10853 [==============================] - 7s 623us/step - loss: 0.1207 - pen_pressure_loss: 0.0094 - letter_space_loss: 0.0104 - size_loss: 0.0100 - dimension_loss: 0.0099 - lowercase_loss: 0.0011 - continuous_loss: 0.0076 - slantness_loss: 0.0104 - tilt_loss: 0.0056 - entry_a_loss: 0.0031 - staff_a_loss: 0.0118 - formation_n_loss: 0.0061 - staff_d_loss: 0.0098 - exit_d_loss: 0.0112 - word_loss: 0.0072 - constancy_loss: 0.0071 - pen_pressure_acc: 0.9992 - letter_space_acc: 0.9994 - size_acc: 0.9994 - dimension_acc: 0.9994 - lowercase_acc: 0.9999 - continuous_acc: 0.9994 - slantness_acc: 0.9994 - tilt_acc: 0.9996 - constancy_acc: 0.9994\n",
            "Epoch 84/100\n",
            "10853/10853 [==============================] - 7s 624us/step - loss: 0.1016 - pen_pressure_loss: 0.0075 - letter_space_loss: 0.0090 - size_loss: 0.0086 - dimension_loss: 0.0084 - lowercase_loss: 9.9511e-04 - continuous_loss: 0.0061 - slantness_loss: 0.0095 - tilt_loss: 0.0041 - entry_a_loss: 0.0024 - staff_a_loss: 0.0102 - formation_n_loss: 0.0044 - staff_d_loss: 0.0085 - exit_d_loss: 0.0104 - word_loss: 0.0058 - constancy_loss: 0.0058 - pen_pressure_acc: 0.9994 - letter_space_acc: 0.9995 - size_acc: 0.9997 - dimension_acc: 0.9996 - lowercase_acc: 0.9999 - continuous_acc: 0.9996 - slantness_acc: 0.9995 - tilt_acc: 0.9998 - constancy_acc: 0.9996\n",
            "Epoch 85/100\n",
            "10853/10853 [==============================] - 7s 625us/step - loss: 0.1102 - pen_pressure_loss: 0.0085 - letter_space_loss: 0.0093 - size_loss: 0.0096 - dimension_loss: 0.0097 - lowercase_loss: 9.3657e-04 - continuous_loss: 0.0068 - slantness_loss: 0.0097 - tilt_loss: 0.0057 - entry_a_loss: 0.0028 - staff_a_loss: 0.0107 - formation_n_loss: 0.0052 - staff_d_loss: 0.0088 - exit_d_loss: 0.0107 - word_loss: 0.0059 - constancy_loss: 0.0060 - pen_pressure_acc: 0.9994 - letter_space_acc: 0.9995 - size_acc: 0.9994 - dimension_acc: 0.9994 - lowercase_acc: 1.0000 - continuous_acc: 0.9996 - slantness_acc: 0.9996 - tilt_acc: 0.9996 - constancy_acc: 0.9996\n",
            "Epoch 86/100\n",
            "10853/10853 [==============================] - 7s 626us/step - loss: 0.1028 - pen_pressure_loss: 0.0073 - letter_space_loss: 0.0092 - size_loss: 0.0090 - dimension_loss: 0.0089 - lowercase_loss: 0.0010 - continuous_loss: 0.0061 - slantness_loss: 0.0090 - tilt_loss: 0.0048 - entry_a_loss: 0.0026 - staff_a_loss: 0.0097 - formation_n_loss: 0.0048 - staff_d_loss: 0.0078 - exit_d_loss: 0.0101 - word_loss: 0.0061 - constancy_loss: 0.0063 - pen_pressure_acc: 0.9994 - letter_space_acc: 0.9996 - size_acc: 0.9996 - dimension_acc: 0.9996 - lowercase_acc: 0.9999 - continuous_acc: 0.9996 - slantness_acc: 0.9996 - tilt_acc: 0.9996 - constancy_acc: 0.9996\n",
            "Epoch 87/100\n",
            "10853/10853 [==============================] - 7s 631us/step - loss: 0.1009 - pen_pressure_loss: 0.0068 - letter_space_loss: 0.0082 - size_loss: 0.0095 - dimension_loss: 0.0092 - lowercase_loss: 9.4955e-04 - continuous_loss: 0.0055 - slantness_loss: 0.0091 - tilt_loss: 0.0049 - entry_a_loss: 0.0027 - staff_a_loss: 0.0096 - formation_n_loss: 0.0049 - staff_d_loss: 0.0077 - exit_d_loss: 0.0099 - word_loss: 0.0060 - constancy_loss: 0.0058 - pen_pressure_acc: 0.9995 - letter_space_acc: 0.9997 - size_acc: 0.9996 - dimension_acc: 0.9996 - lowercase_acc: 0.9999 - continuous_acc: 0.9997 - slantness_acc: 0.9996 - tilt_acc: 0.9996 - constancy_acc: 0.9996\n",
            "Epoch 88/100\n",
            "10853/10853 [==============================] - 7s 632us/step - loss: 0.0924 - pen_pressure_loss: 0.0063 - letter_space_loss: 0.0075 - size_loss: 0.0082 - dimension_loss: 0.0082 - lowercase_loss: 8.7850e-04 - continuous_loss: 0.0047 - slantness_loss: 0.0089 - tilt_loss: 0.0041 - entry_a_loss: 0.0026 - staff_a_loss: 0.0088 - formation_n_loss: 0.0048 - staff_d_loss: 0.0068 - exit_d_loss: 0.0093 - word_loss: 0.0059 - constancy_loss: 0.0055 - pen_pressure_acc: 0.9995 - letter_space_acc: 0.9998 - size_acc: 0.9997 - dimension_acc: 0.9996 - lowercase_acc: 1.0000 - continuous_acc: 0.9998 - slantness_acc: 0.9996 - tilt_acc: 0.9997 - constancy_acc: 0.9996\n",
            "Epoch 89/100\n",
            "10853/10853 [==============================] - 7s 622us/step - loss: 0.1030 - pen_pressure_loss: 0.0075 - letter_space_loss: 0.0083 - size_loss: 0.0088 - dimension_loss: 0.0091 - lowercase_loss: 9.0354e-04 - continuous_loss: 0.0056 - slantness_loss: 0.0097 - tilt_loss: 0.0047 - entry_a_loss: 0.0033 - staff_a_loss: 0.0101 - formation_n_loss: 0.0057 - staff_d_loss: 0.0074 - exit_d_loss: 0.0092 - word_loss: 0.0064 - constancy_loss: 0.0062 - pen_pressure_acc: 0.9995 - letter_space_acc: 0.9997 - size_acc: 0.9997 - dimension_acc: 0.9994 - lowercase_acc: 0.9999 - continuous_acc: 0.9997 - slantness_acc: 0.9995 - tilt_acc: 0.9997 - constancy_acc: 0.9996\n",
            "Epoch 90/100\n",
            "10853/10853 [==============================] - 7s 619us/step - loss: 0.0936 - pen_pressure_loss: 0.0071 - letter_space_loss: 0.0081 - size_loss: 0.0079 - dimension_loss: 0.0081 - lowercase_loss: 8.5865e-04 - continuous_loss: 0.0052 - slantness_loss: 0.0083 - tilt_loss: 0.0053 - entry_a_loss: 0.0025 - staff_a_loss: 0.0090 - formation_n_loss: 0.0041 - staff_d_loss: 0.0072 - exit_d_loss: 0.0094 - word_loss: 0.0053 - constancy_loss: 0.0051 - pen_pressure_acc: 0.9995 - letter_space_acc: 0.9997 - size_acc: 0.9996 - dimension_acc: 0.9994 - lowercase_acc: 1.0000 - continuous_acc: 0.9996 - slantness_acc: 0.9996 - tilt_acc: 0.9996 - constancy_acc: 0.9997\n",
            "Epoch 91/100\n",
            "10853/10853 [==============================] - 7s 624us/step - loss: 0.0922 - pen_pressure_loss: 0.0064 - letter_space_loss: 0.0075 - size_loss: 0.0080 - dimension_loss: 0.0078 - lowercase_loss: 8.6878e-04 - continuous_loss: 0.0049 - slantness_loss: 0.0087 - tilt_loss: 0.0046 - entry_a_loss: 0.0026 - staff_a_loss: 0.0091 - formation_n_loss: 0.0048 - staff_d_loss: 0.0067 - exit_d_loss: 0.0089 - word_loss: 0.0058 - constancy_loss: 0.0055 - pen_pressure_acc: 0.9996 - letter_space_acc: 0.9997 - size_acc: 0.9997 - dimension_acc: 0.9997 - lowercase_acc: 1.0000 - continuous_acc: 0.9998 - slantness_acc: 0.9995 - tilt_acc: 0.9997 - constancy_acc: 0.9996\n",
            "Epoch 92/100\n",
            "10853/10853 [==============================] - 7s 628us/step - loss: 0.0920 - pen_pressure_loss: 0.0065 - letter_space_loss: 0.0076 - size_loss: 0.0082 - dimension_loss: 0.0081 - lowercase_loss: 8.1728e-04 - continuous_loss: 0.0055 - slantness_loss: 0.0083 - tilt_loss: 0.0047 - entry_a_loss: 0.0025 - staff_a_loss: 0.0087 - formation_n_loss: 0.0047 - staff_d_loss: 0.0070 - exit_d_loss: 0.0090 - word_loss: 0.0054 - constancy_loss: 0.0051 - pen_pressure_acc: 0.9995 - letter_space_acc: 0.9997 - size_acc: 0.9996 - dimension_acc: 0.9996 - lowercase_acc: 1.0000 - continuous_acc: 0.9997 - slantness_acc: 0.9996 - tilt_acc: 0.9996 - constancy_acc: 0.9997\n",
            "Epoch 93/100\n",
            "10853/10853 [==============================] - 7s 624us/step - loss: 0.0948 - pen_pressure_loss: 0.0074 - letter_space_loss: 0.0081 - size_loss: 0.0076 - dimension_loss: 0.0078 - lowercase_loss: 8.6340e-04 - continuous_loss: 0.0056 - slantness_loss: 0.0082 - tilt_loss: 0.0044 - entry_a_loss: 0.0026 - staff_a_loss: 0.0095 - formation_n_loss: 0.0047 - staff_d_loss: 0.0074 - exit_d_loss: 0.0087 - word_loss: 0.0062 - constancy_loss: 0.0057 - pen_pressure_acc: 0.9994 - letter_space_acc: 0.9997 - size_acc: 0.9997 - dimension_acc: 0.9996 - lowercase_acc: 0.9999 - continuous_acc: 0.9997 - slantness_acc: 0.9997 - tilt_acc: 0.9997 - constancy_acc: 0.9995\n",
            "Epoch 94/100\n",
            "10853/10853 [==============================] - 7s 631us/step - loss: 0.0848 - pen_pressure_loss: 0.0064 - letter_space_loss: 0.0072 - size_loss: 0.0069 - dimension_loss: 0.0073 - lowercase_loss: 8.4637e-04 - continuous_loss: 0.0051 - slantness_loss: 0.0076 - tilt_loss: 0.0043 - entry_a_loss: 0.0020 - staff_a_loss: 0.0085 - formation_n_loss: 0.0036 - staff_d_loss: 0.0067 - exit_d_loss: 0.0086 - word_loss: 0.0049 - constancy_loss: 0.0048 - pen_pressure_acc: 0.9994 - letter_space_acc: 0.9997 - size_acc: 0.9997 - dimension_acc: 0.9994 - lowercase_acc: 0.9999 - continuous_acc: 0.9997 - slantness_acc: 0.9996 - tilt_acc: 0.9997 - constancy_acc: 0.9997\n",
            "Epoch 95/100\n",
            "10853/10853 [==============================] - 7s 624us/step - loss: 0.0868 - pen_pressure_loss: 0.0054 - letter_space_loss: 0.0067 - size_loss: 0.0076 - dimension_loss: 0.0078 - lowercase_loss: 8.5912e-04 - continuous_loss: 0.0046 - slantness_loss: 0.0081 - tilt_loss: 0.0042 - entry_a_loss: 0.0025 - staff_a_loss: 0.0084 - formation_n_loss: 0.0049 - staff_d_loss: 0.0063 - exit_d_loss: 0.0083 - word_loss: 0.0057 - constancy_loss: 0.0055 - pen_pressure_acc: 0.9996 - letter_space_acc: 0.9998 - size_acc: 0.9997 - dimension_acc: 0.9996 - lowercase_acc: 0.9999 - continuous_acc: 0.9998 - slantness_acc: 0.9996 - tilt_acc: 0.9997 - constancy_acc: 0.9997\n",
            "Epoch 96/100\n",
            "10853/10853 [==============================] - 7s 619us/step - loss: 0.0847 - pen_pressure_loss: 0.0074 - letter_space_loss: 0.0081 - size_loss: 0.0065 - dimension_loss: 0.0066 - lowercase_loss: 7.8389e-04 - continuous_loss: 0.0063 - slantness_loss: 0.0073 - tilt_loss: 0.0035 - entry_a_loss: 0.0020 - staff_a_loss: 0.0088 - formation_n_loss: 0.0038 - staff_d_loss: 0.0071 - exit_d_loss: 0.0080 - word_loss: 0.0044 - constancy_loss: 0.0041 - pen_pressure_acc: 0.9995 - letter_space_acc: 0.9997 - size_acc: 0.9998 - dimension_acc: 0.9997 - lowercase_acc: 1.0000 - continuous_acc: 0.9997 - slantness_acc: 0.9997 - tilt_acc: 0.9998 - constancy_acc: 0.9999\n",
            "Epoch 97/100\n",
            "10853/10853 [==============================] - 7s 626us/step - loss: 0.0879 - pen_pressure_loss: 0.0059 - letter_space_loss: 0.0071 - size_loss: 0.0078 - dimension_loss: 0.0080 - lowercase_loss: 8.1230e-04 - continuous_loss: 0.0049 - slantness_loss: 0.0081 - tilt_loss: 0.0045 - entry_a_loss: 0.0025 - staff_a_loss: 0.0081 - formation_n_loss: 0.0047 - staff_d_loss: 0.0070 - exit_d_loss: 0.0086 - word_loss: 0.0050 - constancy_loss: 0.0047 - pen_pressure_acc: 0.9996 - letter_space_acc: 0.9997 - size_acc: 0.9996 - dimension_acc: 0.9995 - lowercase_acc: 0.9999 - continuous_acc: 0.9997 - slantness_acc: 0.9995 - tilt_acc: 0.9996 - constancy_acc: 0.9998\n",
            "Epoch 98/100\n",
            "10853/10853 [==============================] - 7s 620us/step - loss: 0.0919 - pen_pressure_loss: 0.0074 - letter_space_loss: 0.0083 - size_loss: 0.0079 - dimension_loss: 0.0077 - lowercase_loss: 8.1320e-04 - continuous_loss: 0.0059 - slantness_loss: 0.0081 - tilt_loss: 0.0047 - entry_a_loss: 0.0023 - staff_a_loss: 0.0089 - formation_n_loss: 0.0044 - staff_d_loss: 0.0072 - exit_d_loss: 0.0084 - word_loss: 0.0051 - constancy_loss: 0.0047 - pen_pressure_acc: 0.9994 - letter_space_acc: 0.9996 - size_acc: 0.9996 - dimension_acc: 0.9996 - lowercase_acc: 0.9999 - continuous_acc: 0.9996 - slantness_acc: 0.9995 - tilt_acc: 0.9996 - constancy_acc: 0.9998\n",
            "Epoch 99/100\n",
            "10853/10853 [==============================] - 7s 623us/step - loss: 0.0748 - pen_pressure_loss: 0.0056 - letter_space_loss: 0.0069 - size_loss: 0.0061 - dimension_loss: 0.0063 - lowercase_loss: 7.5374e-04 - continuous_loss: 0.0049 - slantness_loss: 0.0069 - tilt_loss: 0.0031 - entry_a_loss: 0.0019 - staff_a_loss: 0.0077 - formation_n_loss: 0.0030 - staff_d_loss: 0.0064 - exit_d_loss: 0.0077 - word_loss: 0.0041 - constancy_loss: 0.0036 - pen_pressure_acc: 0.9996 - letter_space_acc: 0.9996 - size_acc: 0.9998 - dimension_acc: 0.9998 - lowercase_acc: 1.0000 - continuous_acc: 0.9997 - slantness_acc: 0.9997 - tilt_acc: 0.9998 - constancy_acc: 0.9999\n",
            "Epoch 100/100\n",
            "10853/10853 [==============================] - 7s 626us/step - loss: 0.0895 - pen_pressure_loss: 0.0076 - letter_space_loss: 0.0075 - size_loss: 0.0078 - dimension_loss: 0.0078 - lowercase_loss: 7.2491e-04 - continuous_loss: 0.0053 - slantness_loss: 0.0075 - tilt_loss: 0.0049 - entry_a_loss: 0.0024 - staff_a_loss: 0.0085 - formation_n_loss: 0.0046 - staff_d_loss: 0.0066 - exit_d_loss: 0.0082 - word_loss: 0.0051 - constancy_loss: 0.0049 - pen_pressure_acc: 0.9995 - letter_space_acc: 0.9997 - size_acc: 0.9996 - dimension_acc: 0.9995 - lowercase_acc: 1.0000 - continuous_acc: 0.9997 - slantness_acc: 0.9997 - tilt_acc: 0.9996 - constancy_acc: 0.9998\n"
          ],
          "name": "stdout"
        }
      ]
    },
    {
      "metadata": {
        "id": "YWfS1-DJWnP8",
        "colab_type": "code",
        "outputId": "ebd73038-6b17-46e4-f03a-5484d28c26d1",
        "colab": {
          "base_uri": "https://localhost:8080/",
          "height": 35
        }
      },
      "cell_type": "code",
      "source": [
        "from sklearn.metrics.pairwise import cosine_similarity\n",
        "pred=[]\n",
        "for x,y in zip(val_data1,val_data2):\n",
        "  full=[]\n",
        "  for i,j in zip(model.predict(x.reshape(-1,64,64,1)),model.predict(y.reshape(-1,64,64,1))):\n",
        "    result = cosine_similarity(i,j)\n",
        "    full.append(float(result))\n",
        "#   print(float(result))\n",
        "  if(np.mean(full) >0.61):\n",
        "    pred.append(1)\n",
        "  else:\n",
        "    pred.append(0)\n",
        "count=0\n",
        "for i,j in zip(pred,val_target):\n",
        "  if i==j:\n",
        "    count+=1\n",
        "print(count/906)"
      ],
      "execution_count": 0,
      "outputs": [
        {
          "output_type": "stream",
          "text": [
            "0.5728476821192053\n"
          ],
          "name": "stdout"
        }
      ]
    },
    {
      "metadata": {
        "id": "ZLAdUZzWvtln",
        "colab_type": "code",
        "outputId": "bd0d7b70-551a-4613-e213-115e276af0c9",
        "colab": {
          "base_uri": "https://localhost:8080/",
          "height": 35
        }
      },
      "cell_type": "code",
      "source": [
        "from sklearn.metrics.pairwise import cosine_similarity\n",
        "pred=[]\n",
        "for x,y in zip(val_data1,val_data2):\n",
        "  full=[]\n",
        "  for i,j in zip(encoder.predict(x.reshape(-1,64,64,1)),encoder.predict(y.reshape(-1,64,64,1))):\n",
        "    result = cosine_similarity([i.flatten()],[j.flatten()])\n",
        "    if(float(result) >0.5):\n",
        "      pred.append(1)\n",
        "    else:\n",
        "      pred.append(0)\n",
        "count=0\n",
        "for i,j in zip(pred,val_target):\n",
        "  if i==j:\n",
        "    count+=1\n",
        "print(count/906)"
      ],
      "execution_count": 0,
      "outputs": [
        {
          "output_type": "stream",
          "text": [
            "0.8598233995584988\n"
          ],
          "name": "stdout"
        }
      ]
    },
    {
      "metadata": {
        "id": "IyjRhescv0Ry",
        "colab_type": "code",
        "outputId": "061a2a0e-af83-42a9-8ca1-d21548713fcc",
        "colab": {
          "base_uri": "https://localhost:8080/",
          "height": 334
        }
      },
      "cell_type": "code",
      "source": [
        "full=[]\n",
        "for i,j in zip(encoder.predict(train_X[0].reshape(-1,64,64,1)),encoder.predict(train_X[1].reshape(-1,64,64,1))):\n",
        "    result = cosine_similarity([i.flatten()],[j.flatten()])\n",
        "    print('overall_similarity pretdicted by AutoEncoder: '+ str(float(result)))\n",
        "    if (float(result)>0.5):\n",
        "      print('same writer')\n",
        "    else:\n",
        "      print('different writer')\n",
        "    print()\n",
        "for i,j in zip(model.predict(train_X[0].reshape(-1,64,64,1)),model.predict(train_X[1].reshape(-1,64,64,1))):\n",
        "    result = cosine_similarity(i,j)\n",
        "    full.append(float(result))\n",
        "for ix,i in enumerate(full):\n",
        "  print ('feature '+str(ix)+' cosine score: '+str(i))"
      ],
      "execution_count": 0,
      "outputs": [
        {
          "output_type": "stream",
          "text": [
            "overall_similarity predicted by AutoEncoder: 0.3941423296928406\n",
            "different writer\n",
            "\n",
            "feature 0 cosine score: 0.9999999403953552\n",
            "feature 1 cosine score: 0.999992847442627\n",
            "feature 2 cosine score: 0.9999998211860657\n",
            "feature 3 cosine score: 0.0007817999576218426\n",
            "feature 4 cosine score: 1.0\n",
            "feature 5 cosine score: 0.999987006187439\n",
            "feature 6 cosine score: 0.9999868273735046\n",
            "feature 7 cosine score: 0.0027961046434938908\n",
            "feature 8 cosine score: 0.9999956488609314\n",
            "feature 9 cosine score: 0.9999947547912598\n",
            "feature 10 cosine score: 0.9999988079071045\n",
            "feature 11 cosine score: 0.9999883770942688\n",
            "feature 12 cosine score: 0.006634489167481661\n",
            "feature 13 cosine score: 0.9999961853027344\n",
            "feature 14 cosine score: 0.0011881800601258874\n"
          ],
          "name": "stdout"
        }
      ]
    },
    {
      "metadata": {
        "id": "j3rG-BxCxB5Z",
        "colab_type": "code",
        "colab": {}
      },
      "cell_type": "code",
      "source": [
        ""
      ],
      "execution_count": 0,
      "outputs": []
    }
  ]
}